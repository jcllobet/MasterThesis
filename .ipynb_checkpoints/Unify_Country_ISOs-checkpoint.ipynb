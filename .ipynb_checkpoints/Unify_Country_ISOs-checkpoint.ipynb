{
 "cells": [
  {
   "cell_type": "code",
   "execution_count": 1,
   "metadata": {},
   "outputs": [],
   "source": [
    "import pandas as pd\n",
    "import numpy as np\n",
    "\n",
    "proximity = \"./data/0_Golden_Standard/Country_Borders_source_target_V06.tsv\"\n",
    "flights = \"./data/0_Golden_Standard/country_flight_country_w1.csv\""
   ]
  },
  {
   "cell_type": "code",
   "execution_count": 2,
   "metadata": {},
   "outputs": [
    {
     "data": {
      "text/plain": [
       "'/home/jan/Code/MasterThesis'"
      ]
     },
     "execution_count": 2,
     "metadata": {},
     "output_type": "execute_result"
    }
   ],
   "source": [
    "pwd"
   ]
  },
  {
   "cell_type": "code",
   "execution_count": 3,
   "metadata": {},
   "outputs": [],
   "source": [
    "prt = pd.read_csv(proximity,sep='\\t')\n",
    "flt = pd.read_csv(flights,sep=',')"
   ]
  },
  {
   "cell_type": "code",
   "execution_count": 4,
   "metadata": {},
   "outputs": [
    {
     "data": {
      "text/html": [
       "<div>\n",
       "<style scoped>\n",
       "    .dataframe tbody tr th:only-of-type {\n",
       "        vertical-align: middle;\n",
       "    }\n",
       "\n",
       "    .dataframe tbody tr th {\n",
       "        vertical-align: top;\n",
       "    }\n",
       "\n",
       "    .dataframe thead th {\n",
       "        text-align: right;\n",
       "    }\n",
       "</style>\n",
       "<table border=\"1\" class=\"dataframe\">\n",
       "  <thead>\n",
       "    <tr style=\"text-align: right;\">\n",
       "      <th></th>\n",
       "      <th>Country</th>\n",
       "      <th>Neighbour</th>\n",
       "      <th>iso-alpha-3</th>\n",
       "      <th>region</th>\n",
       "    </tr>\n",
       "  </thead>\n",
       "  <tbody>\n",
       "    <tr>\n",
       "      <th>0</th>\n",
       "      <td>Afghanistan</td>\n",
       "      <td>China</td>\n",
       "      <td>AFG</td>\n",
       "      <td>Asia</td>\n",
       "    </tr>\n",
       "    <tr>\n",
       "      <th>1</th>\n",
       "      <td>Afghanistan</td>\n",
       "      <td>Iran (Islamic Republic of)</td>\n",
       "      <td>AFG</td>\n",
       "      <td>Asia</td>\n",
       "    </tr>\n",
       "    <tr>\n",
       "      <th>2</th>\n",
       "      <td>Afghanistan</td>\n",
       "      <td>Pakistan</td>\n",
       "      <td>AFG</td>\n",
       "      <td>Asia</td>\n",
       "    </tr>\n",
       "    <tr>\n",
       "      <th>3</th>\n",
       "      <td>Afghanistan</td>\n",
       "      <td>Tajikistan</td>\n",
       "      <td>AFG</td>\n",
       "      <td>Asia</td>\n",
       "    </tr>\n",
       "    <tr>\n",
       "      <th>4</th>\n",
       "      <td>Afghanistan</td>\n",
       "      <td>Turkmenistan</td>\n",
       "      <td>AFG</td>\n",
       "      <td>Asia</td>\n",
       "    </tr>\n",
       "    <tr>\n",
       "      <th>...</th>\n",
       "      <td>...</td>\n",
       "      <td>...</td>\n",
       "      <td>...</td>\n",
       "      <td>...</td>\n",
       "    </tr>\n",
       "    <tr>\n",
       "      <th>791</th>\n",
       "      <td>Zambia</td>\n",
       "      <td>Zimbabwe</td>\n",
       "      <td>ZMB</td>\n",
       "      <td>Africa</td>\n",
       "    </tr>\n",
       "    <tr>\n",
       "      <th>792</th>\n",
       "      <td>Zimbabwe</td>\n",
       "      <td>Botswana</td>\n",
       "      <td>ZWE</td>\n",
       "      <td>Africa</td>\n",
       "    </tr>\n",
       "    <tr>\n",
       "      <th>793</th>\n",
       "      <td>Zimbabwe</td>\n",
       "      <td>Mozambique</td>\n",
       "      <td>ZWE</td>\n",
       "      <td>Africa</td>\n",
       "    </tr>\n",
       "    <tr>\n",
       "      <th>794</th>\n",
       "      <td>Zimbabwe</td>\n",
       "      <td>South Africa</td>\n",
       "      <td>ZWE</td>\n",
       "      <td>Africa</td>\n",
       "    </tr>\n",
       "    <tr>\n",
       "      <th>795</th>\n",
       "      <td>Zimbabwe</td>\n",
       "      <td>Zambia</td>\n",
       "      <td>ZWE</td>\n",
       "      <td>Africa</td>\n",
       "    </tr>\n",
       "  </tbody>\n",
       "</table>\n",
       "<p>796 rows × 4 columns</p>\n",
       "</div>"
      ],
      "text/plain": [
       "         Country                   Neighbour iso-alpha-3  region\n",
       "0    Afghanistan                       China         AFG    Asia\n",
       "1    Afghanistan  Iran (Islamic Republic of)         AFG    Asia\n",
       "2    Afghanistan                    Pakistan         AFG    Asia\n",
       "3    Afghanistan                  Tajikistan         AFG    Asia\n",
       "4    Afghanistan                Turkmenistan         AFG    Asia\n",
       "..           ...                         ...         ...     ...\n",
       "791       Zambia                    Zimbabwe         ZMB  Africa\n",
       "792     Zimbabwe                    Botswana         ZWE  Africa\n",
       "793     Zimbabwe                  Mozambique         ZWE  Africa\n",
       "794     Zimbabwe                South Africa         ZWE  Africa\n",
       "795     Zimbabwe                      Zambia         ZWE  Africa\n",
       "\n",
       "[796 rows x 4 columns]"
      ]
     },
     "execution_count": 4,
     "metadata": {},
     "output_type": "execute_result"
    }
   ],
   "source": [
    "prt"
   ]
  },
  {
   "cell_type": "code",
   "execution_count": 5,
   "metadata": {},
   "outputs": [
    {
     "data": {
      "text/html": [
       "<div>\n",
       "<style scoped>\n",
       "    .dataframe tbody tr th:only-of-type {\n",
       "        vertical-align: middle;\n",
       "    }\n",
       "\n",
       "    .dataframe tbody tr th {\n",
       "        vertical-align: top;\n",
       "    }\n",
       "\n",
       "    .dataframe thead th {\n",
       "        text-align: right;\n",
       "    }\n",
       "</style>\n",
       "<table border=\"1\" class=\"dataframe\">\n",
       "  <thead>\n",
       "    <tr style=\"text-align: right;\">\n",
       "      <th></th>\n",
       "      <th>src</th>\n",
       "      <th>trg</th>\n",
       "      <th>weights</th>\n",
       "    </tr>\n",
       "  </thead>\n",
       "  <tbody>\n",
       "    <tr>\n",
       "      <th>0</th>\n",
       "      <td>Afghanistan</td>\n",
       "      <td>Azerbaijan</td>\n",
       "      <td>1</td>\n",
       "    </tr>\n",
       "    <tr>\n",
       "      <th>1</th>\n",
       "      <td>Afghanistan</td>\n",
       "      <td>India</td>\n",
       "      <td>1</td>\n",
       "    </tr>\n",
       "    <tr>\n",
       "      <th>2</th>\n",
       "      <td>Afghanistan</td>\n",
       "      <td>Iran (Islamic Republic of)</td>\n",
       "      <td>1</td>\n",
       "    </tr>\n",
       "    <tr>\n",
       "      <th>3</th>\n",
       "      <td>Afghanistan</td>\n",
       "      <td>Kuwait</td>\n",
       "      <td>1</td>\n",
       "    </tr>\n",
       "    <tr>\n",
       "      <th>4</th>\n",
       "      <td>Afghanistan</td>\n",
       "      <td>Pakistan</td>\n",
       "      <td>1</td>\n",
       "    </tr>\n",
       "    <tr>\n",
       "      <th>...</th>\n",
       "      <td>...</td>\n",
       "      <td>...</td>\n",
       "      <td>...</td>\n",
       "    </tr>\n",
       "    <tr>\n",
       "      <th>4553</th>\n",
       "      <td>Zimbabwe</td>\n",
       "      <td>Malawi</td>\n",
       "      <td>1</td>\n",
       "    </tr>\n",
       "    <tr>\n",
       "      <th>4554</th>\n",
       "      <td>Zimbabwe</td>\n",
       "      <td>Namibia</td>\n",
       "      <td>1</td>\n",
       "    </tr>\n",
       "    <tr>\n",
       "      <th>4555</th>\n",
       "      <td>Zimbabwe</td>\n",
       "      <td>South Africa</td>\n",
       "      <td>1</td>\n",
       "    </tr>\n",
       "    <tr>\n",
       "      <th>4556</th>\n",
       "      <td>Zimbabwe</td>\n",
       "      <td>Tanzania</td>\n",
       "      <td>1</td>\n",
       "    </tr>\n",
       "    <tr>\n",
       "      <th>4557</th>\n",
       "      <td>Zimbabwe</td>\n",
       "      <td>Zambia</td>\n",
       "      <td>1</td>\n",
       "    </tr>\n",
       "  </tbody>\n",
       "</table>\n",
       "<p>4558 rows × 3 columns</p>\n",
       "</div>"
      ],
      "text/plain": [
       "              src                         trg  weights\n",
       "0     Afghanistan                  Azerbaijan        1\n",
       "1     Afghanistan                       India        1\n",
       "2     Afghanistan  Iran (Islamic Republic of)        1\n",
       "3     Afghanistan                      Kuwait        1\n",
       "4     Afghanistan                    Pakistan        1\n",
       "...           ...                         ...      ...\n",
       "4553     Zimbabwe                      Malawi        1\n",
       "4554     Zimbabwe                     Namibia        1\n",
       "4555     Zimbabwe                South Africa        1\n",
       "4556     Zimbabwe                    Tanzania        1\n",
       "4557     Zimbabwe                      Zambia        1\n",
       "\n",
       "[4558 rows x 3 columns]"
      ]
     },
     "execution_count": 5,
     "metadata": {},
     "output_type": "execute_result"
    }
   ],
   "source": [
    "flt"
   ]
  },
  {
   "cell_type": "code",
   "execution_count": 6,
   "metadata": {},
   "outputs": [],
   "source": [
    "set_iso = set(prt['Country'])\n",
    "set_fl = set(flt['src'])"
   ]
  },
  {
   "cell_type": "code",
   "execution_count": 7,
   "metadata": {},
   "outputs": [],
   "source": [
    "def to_be_changed(t1,t2):\n",
    "    to_add = [i for i in t2 if i not in t1]\n",
    "    to_review = [i for i in t1 if i not in t2]\n",
    "    return sorted(to_add), sorted(to_review)"
   ]
  },
  {
   "cell_type": "code",
   "execution_count": 8,
   "metadata": {},
   "outputs": [
    {
     "data": {
      "text/plain": [
       "([],\n",
       " ['Andorra',\n",
       "  'Antarctica',\n",
       "  'Antartica',\n",
       "  'Bonaire, Sint Eustatius and Saba',\n",
       "  'Bouvet Island',\n",
       "  'British Indian Ocean Territory',\n",
       "  'Curaçao',\n",
       "  'Eswatini',\n",
       "  'Finalnd',\n",
       "  'French Southern Territories',\n",
       "  'Heard Island and McDonald Islands',\n",
       "  'Holy See',\n",
       "  'Kosovo',\n",
       "  'Liechtenstein',\n",
       "  'Monaco',\n",
       "  'Montserrat',\n",
       "  'Palestine, State of',\n",
       "  'Pitcairn',\n",
       "  'Saint Barthélemy',\n",
       "  'Saint Helena, Ascension and Tristan da Cunha',\n",
       "  'Saint Martin (French part)',\n",
       "  'San Marino',\n",
       "  'Sint Maarten (Dutch part)',\n",
       "  'South Georgia and the South Sandwich Islands',\n",
       "  'Svalbard and Jan Mayen',\n",
       "  'Syrian Arab Republic',\n",
       "  'Timor-Leste',\n",
       "  'Tokelau',\n",
       "  'United States Minor Outlying Islands',\n",
       "  'Virgin Islands (U.S.)',\n",
       "  'Åland Islands'])"
      ]
     },
     "execution_count": 8,
     "metadata": {},
     "output_type": "execute_result"
    }
   ],
   "source": [
    "# Common Replacements to set ISO 3166 standard\n",
    "rep = {'British Virgin Islands': 'Virgin Islands (British)',\n",
    "  'Burma': 'Myanmar',\n",
    "  'Cape Verde' : 'Cabo Verde',\n",
    "  'Congo (Brazzaville)': 'Congo',\n",
    "  'Congo (Kinshasa)': 'Congo, Democratic Republic of the',\n",
    "  \"Cote d'Ivoire\": \"Côte d'Ivoire\",\n",
    "  'Czech Republic': \"Czechia\",\n",
    "  'Falkland Islands':\"Falkland Islands (Malvinas)\",\n",
    "  'Iran':\"Iran (Islamic Republic of)\",\n",
    "  'Laos':\"Lao People's Democratic Republic\",\n",
    "  'Macau': 'Macao',\n",
    "  'Macedonia': 'North Macedonia',\n",
    "  'Micronesia': \"Micronesia (Federated States of)\",\n",
    "  'Moldova': \"Moldova, Republic of\",\n",
    "  'North Korea':\"Korea (Democratic People's Republic of)\",\n",
    "  'Reunion': \"Réunion\",\n",
    "  'Russia':\"Russian Federation\",\n",
    "  'South Korea':\"Korea, Republic of\",\n",
    "  'Tanzania':\"Tanzania, United Republic of\",\n",
    "  'United Kingdom':\"United Kingdom of Great Britain and Northern Ireland\",\n",
    "  'United States':\"United States of America\",\n",
    "  'Venezuela':\"Venezuela (Bolivarian Republic of)\",\n",
    "  'Vietnam':\"Viet Nam\",\n",
    "  'Virgin Islands':\"Virgin Islands (British)\"}\n",
    "\n",
    "def common_rep(replacements, prt):\n",
    "    for key, value in replacements.items():\n",
    "        flt.loc[flt['src'] == key, 'src'] = value\n",
    "        flt.loc[flt['trg'] == key, 'trg'] = value\n",
    "    return flt\n",
    "\n",
    "flt = common_rep(rep,prt)\n",
    "to_be_changed(set(prt['Country']).union(set(prt['Neighbour'])), set(flt['src']).union(set(flt['trg'])))"
   ]
  },
  {
   "cell_type": "code",
   "execution_count": 9,
   "metadata": {},
   "outputs": [
    {
     "data": {
      "text/plain": [
       "(['Netherlands Antilles'], [])"
      ]
     },
     "execution_count": 9,
     "metadata": {},
     "output_type": "execute_result"
    }
   ],
   "source": [
    "#Countries with no flights:\n",
    "no_fly = ['Andorra',\n",
    "  'Antarctica',\n",
    "  'Bonaire, Sint Eustatius and Saba',\n",
    "  'Bouvet Island',\n",
    "  'British Indian Ocean Territory',\n",
    "  'Curaçao',\n",
    "  'Eswatini',\n",
    "  'French Southern Territories',\n",
    "  'Heard Island and McDonald Islands',\n",
    "  'Holy See',\n",
    "  'Kosovo',\n",
    "  'Liechtenstein',\n",
    "  'Monaco',\n",
    "  'Montserrat',\n",
    "  'Netherlands Antilles',\n",
    "  'Palestine, State of',\n",
    "  'Pitcairn',\n",
    "  'Saint Barthélemy',\n",
    "  'Saint Helena, Ascension and Tristan da Cunha',\n",
    "  'Saint Martin (French part)',\n",
    "  'San Marino',\n",
    "  'Sint Maarten (Dutch part)',\n",
    "  'South Georgia and the South Sandwich Islands',\n",
    "  'Svalbard and Jan Mayen',\n",
    "  'Syrian Arab Republic',\n",
    "  'Timor-Leste',\n",
    "  'Tokelau',\n",
    "  'United States Minor Outlying Islands',\n",
    "  'Virgin Islands (U.S.)',\n",
    "  'Åland Islands']\n",
    "\n",
    "def no_air(no_flights, prt):\n",
    "    for e in no_flights:\n",
    "        indexNames1 = prt[prt['Country'] == e ].index\n",
    "        indexNames2 = prt[prt['Neighbour'] == e ].index\n",
    "        prt.drop(indexNames1 , inplace=True)\n",
    "        prt.drop(indexNames2 , inplace=True)\n",
    "    return prt\n",
    "\n",
    "prt = no_air(no_fly, prt)\n",
    "to_be_changed(set(prt['Country']).union(set(prt['Neighbour'])), set(flt['src']).union(set(flt['trg'])))"
   ]
  },
  {
   "cell_type": "code",
   "execution_count": 17,
   "metadata": {},
   "outputs": [
    {
     "data": {
      "text/plain": [
       "['Country', 'Neighbour', 'iso-alpha-3', 'region']"
      ]
     },
     "execution_count": 17,
     "metadata": {},
     "output_type": "execute_result"
    }
   ],
   "source": [
    "c_columns = list(prt)\n",
    "c_columns"
   ]
  },
  {
   "cell_type": "code",
   "execution_count": 15,
   "metadata": {},
   "outputs": [
    {
     "ename": "KeyError",
     "evalue": "'Country'",
     "output_type": "error",
     "traceback": [
      "\u001b[0;31m---------------------------------------------------------------------------\u001b[0m",
      "\u001b[0;31mKeyError\u001b[0m                                  Traceback (most recent call last)",
      "\u001b[0;32m<ipython-input-15-36984f1bc1c8>\u001b[0m in \u001b[0;36m<module>\u001b[0;34m\u001b[0m\n\u001b[1;32m     13\u001b[0m     \u001b[0;32mreturn\u001b[0m \u001b[0mt2\u001b[0m\u001b[0;34m\u001b[0m\u001b[0;34m\u001b[0m\u001b[0m\n\u001b[1;32m     14\u001b[0m \u001b[0;34m\u001b[0m\u001b[0m\n\u001b[0;32m---> 15\u001b[0;31m \u001b[0mflt\u001b[0m \u001b[0;34m=\u001b[0m \u001b[0miso_fill\u001b[0m\u001b[0;34m(\u001b[0m\u001b[0mprt\u001b[0m\u001b[0;34m,\u001b[0m \u001b[0mflt\u001b[0m\u001b[0;34m)\u001b[0m\u001b[0;34m\u001b[0m\u001b[0;34m\u001b[0m\u001b[0m\n\u001b[0m",
      "\u001b[0;32m<ipython-input-15-36984f1bc1c8>\u001b[0m in \u001b[0;36miso_fill\u001b[0;34m(t1, t2)\u001b[0m\n\u001b[1;32m      8\u001b[0m \u001b[0;34m\u001b[0m\u001b[0m\n\u001b[1;32m      9\u001b[0m     \u001b[0;32mfor\u001b[0m \u001b[0mi\u001b[0m \u001b[0;32min\u001b[0m \u001b[0mc_columns\u001b[0m\u001b[0;34m:\u001b[0m\u001b[0;34m\u001b[0m\u001b[0;34m\u001b[0m\u001b[0m\n\u001b[0;32m---> 10\u001b[0;31m         \u001b[0;32mif\u001b[0m \u001b[0mt1\u001b[0m\u001b[0;34m[\u001b[0m\u001b[0;34m\"Country\"\u001b[0m\u001b[0;34m]\u001b[0m\u001b[0;34m[\u001b[0m\u001b[0mi\u001b[0m\u001b[0;34m]\u001b[0m \u001b[0;32min\u001b[0m \u001b[0mt2\u001b[0m\u001b[0;34m[\u001b[0m\u001b[0;34m\"src\"\u001b[0m\u001b[0;34m]\u001b[0m\u001b[0;34m:\u001b[0m\u001b[0;34m\u001b[0m\u001b[0;34m\u001b[0m\u001b[0m\n\u001b[0m\u001b[1;32m     11\u001b[0m             \u001b[0mt2\u001b[0m\u001b[0;34m[\u001b[0m\u001b[0;34m\"iso-alpha-3\"\u001b[0m\u001b[0;34m]\u001b[0m \u001b[0;34m==\u001b[0m \u001b[0mt1\u001b[0m\u001b[0;34m[\u001b[0m\u001b[0;34m\"iso-alpha-3\"\u001b[0m\u001b[0;34m]\u001b[0m\u001b[0;34m\u001b[0m\u001b[0;34m\u001b[0m\u001b[0m\n\u001b[1;32m     12\u001b[0m             \u001b[0mt2\u001b[0m\u001b[0;34m[\u001b[0m\u001b[0;34m\"region\"\u001b[0m\u001b[0;34m]\u001b[0m \u001b[0;34m==\u001b[0m \u001b[0mt1\u001b[0m\u001b[0;34m[\u001b[0m\u001b[0;34m\"region\"\u001b[0m\u001b[0;34m]\u001b[0m\u001b[0;34m\u001b[0m\u001b[0;34m\u001b[0m\u001b[0m\n",
      "\u001b[0;32m~/anaconda3/envs/thesis/lib/python3.8/site-packages/pandas/core/series.py\u001b[0m in \u001b[0;36m__getitem__\u001b[0;34m(self, key)\u001b[0m\n\u001b[1;32m    869\u001b[0m         \u001b[0mkey\u001b[0m \u001b[0;34m=\u001b[0m \u001b[0mcom\u001b[0m\u001b[0;34m.\u001b[0m\u001b[0mapply_if_callable\u001b[0m\u001b[0;34m(\u001b[0m\u001b[0mkey\u001b[0m\u001b[0;34m,\u001b[0m \u001b[0mself\u001b[0m\u001b[0;34m)\u001b[0m\u001b[0;34m\u001b[0m\u001b[0;34m\u001b[0m\u001b[0m\n\u001b[1;32m    870\u001b[0m         \u001b[0;32mtry\u001b[0m\u001b[0;34m:\u001b[0m\u001b[0;34m\u001b[0m\u001b[0;34m\u001b[0m\u001b[0m\n\u001b[0;32m--> 871\u001b[0;31m             \u001b[0mresult\u001b[0m \u001b[0;34m=\u001b[0m \u001b[0mself\u001b[0m\u001b[0;34m.\u001b[0m\u001b[0mindex\u001b[0m\u001b[0;34m.\u001b[0m\u001b[0mget_value\u001b[0m\u001b[0;34m(\u001b[0m\u001b[0mself\u001b[0m\u001b[0;34m,\u001b[0m \u001b[0mkey\u001b[0m\u001b[0;34m)\u001b[0m\u001b[0;34m\u001b[0m\u001b[0;34m\u001b[0m\u001b[0m\n\u001b[0m\u001b[1;32m    872\u001b[0m \u001b[0;34m\u001b[0m\u001b[0m\n\u001b[1;32m    873\u001b[0m             \u001b[0;32mif\u001b[0m \u001b[0;32mnot\u001b[0m \u001b[0mis_scalar\u001b[0m\u001b[0;34m(\u001b[0m\u001b[0mresult\u001b[0m\u001b[0;34m)\u001b[0m\u001b[0;34m:\u001b[0m\u001b[0;34m\u001b[0m\u001b[0;34m\u001b[0m\u001b[0m\n",
      "\u001b[0;32m~/anaconda3/envs/thesis/lib/python3.8/site-packages/pandas/core/indexes/base.py\u001b[0m in \u001b[0;36mget_value\u001b[0;34m(self, series, key)\u001b[0m\n\u001b[1;32m   4403\u001b[0m         \u001b[0mk\u001b[0m \u001b[0;34m=\u001b[0m \u001b[0mself\u001b[0m\u001b[0;34m.\u001b[0m\u001b[0m_convert_scalar_indexer\u001b[0m\u001b[0;34m(\u001b[0m\u001b[0mk\u001b[0m\u001b[0;34m,\u001b[0m \u001b[0mkind\u001b[0m\u001b[0;34m=\u001b[0m\u001b[0;34m\"getitem\"\u001b[0m\u001b[0;34m)\u001b[0m\u001b[0;34m\u001b[0m\u001b[0;34m\u001b[0m\u001b[0m\n\u001b[1;32m   4404\u001b[0m         \u001b[0;32mtry\u001b[0m\u001b[0;34m:\u001b[0m\u001b[0;34m\u001b[0m\u001b[0;34m\u001b[0m\u001b[0m\n\u001b[0;32m-> 4405\u001b[0;31m             \u001b[0;32mreturn\u001b[0m \u001b[0mself\u001b[0m\u001b[0;34m.\u001b[0m\u001b[0m_engine\u001b[0m\u001b[0;34m.\u001b[0m\u001b[0mget_value\u001b[0m\u001b[0;34m(\u001b[0m\u001b[0ms\u001b[0m\u001b[0;34m,\u001b[0m \u001b[0mk\u001b[0m\u001b[0;34m,\u001b[0m \u001b[0mtz\u001b[0m\u001b[0;34m=\u001b[0m\u001b[0mgetattr\u001b[0m\u001b[0;34m(\u001b[0m\u001b[0mseries\u001b[0m\u001b[0;34m.\u001b[0m\u001b[0mdtype\u001b[0m\u001b[0;34m,\u001b[0m \u001b[0;34m\"tz\"\u001b[0m\u001b[0;34m,\u001b[0m \u001b[0;32mNone\u001b[0m\u001b[0;34m)\u001b[0m\u001b[0;34m)\u001b[0m\u001b[0;34m\u001b[0m\u001b[0;34m\u001b[0m\u001b[0m\n\u001b[0m\u001b[1;32m   4406\u001b[0m         \u001b[0;32mexcept\u001b[0m \u001b[0mKeyError\u001b[0m \u001b[0;32mas\u001b[0m \u001b[0me1\u001b[0m\u001b[0;34m:\u001b[0m\u001b[0;34m\u001b[0m\u001b[0;34m\u001b[0m\u001b[0m\n\u001b[1;32m   4407\u001b[0m             \u001b[0;32mif\u001b[0m \u001b[0mlen\u001b[0m\u001b[0;34m(\u001b[0m\u001b[0mself\u001b[0m\u001b[0;34m)\u001b[0m \u001b[0;34m>\u001b[0m \u001b[0;36m0\u001b[0m \u001b[0;32mand\u001b[0m \u001b[0;34m(\u001b[0m\u001b[0mself\u001b[0m\u001b[0;34m.\u001b[0m\u001b[0mholds_integer\u001b[0m\u001b[0;34m(\u001b[0m\u001b[0;34m)\u001b[0m \u001b[0;32mor\u001b[0m \u001b[0mself\u001b[0m\u001b[0;34m.\u001b[0m\u001b[0mis_boolean\u001b[0m\u001b[0;34m(\u001b[0m\u001b[0;34m)\u001b[0m\u001b[0;34m)\u001b[0m\u001b[0;34m:\u001b[0m\u001b[0;34m\u001b[0m\u001b[0;34m\u001b[0m\u001b[0m\n",
      "\u001b[0;32mpandas/_libs/index.pyx\u001b[0m in \u001b[0;36mpandas._libs.index.IndexEngine.get_value\u001b[0;34m()\u001b[0m\n",
      "\u001b[0;32mpandas/_libs/index.pyx\u001b[0m in \u001b[0;36mpandas._libs.index.IndexEngine.get_value\u001b[0;34m()\u001b[0m\n",
      "\u001b[0;32mpandas/_libs/index.pyx\u001b[0m in \u001b[0;36mpandas._libs.index.IndexEngine.get_loc\u001b[0;34m()\u001b[0m\n",
      "\u001b[0;32mpandas/_libs/index_class_helper.pxi\u001b[0m in \u001b[0;36mpandas._libs.index.Int64Engine._check_type\u001b[0;34m()\u001b[0m\n",
      "\u001b[0;31mKeyError\u001b[0m: 'Country'"
     ]
    }
   ],
   "source": [
    "#ISO Naming\n",
    "NaN = np.nan\n",
    "flt[\"iso-alpha-3\"] = NaN\n",
    "flt[\"region\"] = NaN\n",
    "\n",
    "def iso_fill(t1,t2):\n",
    "    c_columns = list(t1)\n",
    "    \n",
    "    for i in c_columns:\n",
    "        if t1[0][i] in t2[\"src\"]:\n",
    "            t2[\"iso-alpha-3\"] == t1[\"iso-alpha-3\"]\n",
    "            t2[\"region\"] == t1[\"region\"]\n",
    "    return t2"
   ]
  },
  {
   "cell_type": "code",
   "execution_count": null,
   "metadata": {},
   "outputs": [],
   "source": [
    "flt = iso_fill(prt, flt)"
   ]
  },
  {
   "cell_type": "code",
   "execution_count": 11,
   "metadata": {},
   "outputs": [
    {
     "name": "stdout",
     "output_type": "stream",
     "text": [
      "src            9\n",
      "trg            9\n",
      "weights        9\n",
      "iso-alpha-3    0\n",
      "region         0\n",
      "dtype: int64\n"
     ]
    }
   ],
   "source": [
    "found_f = flt[flt['src'].str.contains('Macao')]\n",
    "print(found_f.count())"
   ]
  },
  {
   "cell_type": "code",
   "execution_count": 12,
   "metadata": {},
   "outputs": [
    {
     "name": "stdout",
     "output_type": "stream",
     "text": [
      "Country        0\n",
      "Neighbour      0\n",
      "iso-alpha-3    0\n",
      "region         0\n",
      "dtype: int64\n"
     ]
    }
   ],
   "source": [
    "found_c = prt[prt['Neighbour'].str.contains('Netherlands Antilles')]\n",
    "print(found_c.count())"
   ]
  },
  {
   "cell_type": "code",
   "execution_count": 13,
   "metadata": {},
   "outputs": [],
   "source": [
    "prt.to_csv('./data/0_Golden_Standard/c_proximity_clean_01.csv')\n",
    "flt.to_csv('./data/0_Golden_Standard/c_flights_clean_01.csv')"
   ]
  },
  {
   "cell_type": "code",
   "execution_count": null,
   "metadata": {},
   "outputs": [],
   "source": []
  }
 ],
 "metadata": {
  "kernelspec": {
   "display_name": "Python 3",
   "language": "python",
   "name": "python3"
  },
  "language_info": {
   "codemirror_mode": {
    "name": "ipython",
    "version": 3
   },
   "file_extension": ".py",
   "mimetype": "text/x-python",
   "name": "python",
   "nbconvert_exporter": "python",
   "pygments_lexer": "ipython3",
   "version": "3.8.3"
  }
 },
 "nbformat": 4,
 "nbformat_minor": 4
}
