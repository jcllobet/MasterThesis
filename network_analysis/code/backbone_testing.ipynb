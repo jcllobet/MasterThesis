{
 "cells": [
  {
   "cell_type": "code",
   "execution_count": 1,
   "metadata": {},
   "outputs": [],
   "source": [
    "import sys, warnings\n",
    "import numpy as np\n",
    "import pandas as pd\n",
    "import networkx as nx\n",
    "from collections import defaultdict\n",
    "from scipy.stats import binom\n",
    "import os\n",
    "\n",
    "filename = \"../data/country_flight_country_w1.csv\""
   ]
  },
  {
   "cell_type": "code",
   "execution_count": 25,
   "metadata": {},
   "outputs": [],
   "source": [
    "def read(filename, column_of_interest, triangular_input = False, consider_self_loops = True, undirected = False, drop_zeroes = True, sep = \"\\t\"):\n",
    "    \"\"\"Reads a field separated input file into the internal backboning format (a Pandas Dataframe).\n",
    "    The input file should have three or more columns (default separator: tab).\n",
    "    The input file must have a one line header with the column names.\n",
    "    There must be two columns called 'src' and 'trg', indicating the origin and destination of the interaction.\n",
    "    All other columns must contain integer or floats, indicating the edge weight.\n",
    "    In case of undirected network, the edges have to be present in both directions with the same weights, or set triangular_input to True.\n",
    "\n",
    "    Args:\n",
    "    filename (str): The path to the file containing the edges.\n",
    "    column_of_interest (str): The column name identifying the weight that will be used for the backboning.\n",
    "\n",
    "    KWArgs:\n",
    "    triangular_input (bool): Is the network undirected and are the edges present only in one direction? default: False\n",
    "    consider_self_loops (bool): Do you want to consider self loops when calculating the backbone? default: True\n",
    "    undirected (bool): Is the network undirected? default: False\n",
    "    drop_zeroes (bool): Do you want to keep zero weighted connections in the network? Important: it affects methods based on degree, like disparity_filter. default: False\n",
    "    sep (char): The field separator of the inout file. default: tab\n",
    "\n",
    "    Returns:\n",
    "    The parsed network data, the number of nodes in the network and the number of edges.\n",
    "    \"\"\"\n",
    "    table = pd.read_csv(filename,sep=',')\n",
    "    table = table[[\"src\", \"trg\", column_of_interest]]\n",
    "    table.rename(columns = {column_of_interest: \"nij\"}, inplace = True)\n",
    "    if drop_zeroes:\n",
    "        table = table[table[\"nij\"] > 0]\n",
    "        print(\"potatoe\")\n",
    "    if not consider_self_loops:\n",
    "        table = table[table[\"src\"] != table[\"trg\"]]\n",
    "        print(\"apple\")\n",
    "    if triangular_input:\n",
    "        table = make_symmetric(table)\n",
    "        print(\"cinamon\")\n",
    "    original_nodes = len(set(table[\"src\"]) | set(table[\"trg\"]))\n",
    "    original_edges = table.shape[0]\n",
    "    if undirected:\n",
    "        return table, original_nodes, original_edges / 2\n",
    "    else:\n",
    "        return table, original_nodes, original_edges"
   ]
  },
  {
   "cell_type": "code",
   "execution_count": 26,
   "metadata": {},
   "outputs": [
    {
     "name": "stdout",
     "output_type": "stream",
     "text": [
      "potatoe\n"
     ]
    },
    {
     "data": {
      "text/plain": [
       "(              src           trg  nij\n",
       " 0     Afghanistan    Azerbaijan    1\n",
       " 1     Afghanistan         India    1\n",
       " 2     Afghanistan          Iran    1\n",
       " 3     Afghanistan        Kuwait    1\n",
       " 4     Afghanistan      Pakistan    1\n",
       " ...           ...           ...  ...\n",
       " 4553     Zimbabwe        Malawi    1\n",
       " 4554     Zimbabwe       Namibia    1\n",
       " 4555     Zimbabwe  South Africa    1\n",
       " 4556     Zimbabwe      Tanzania    1\n",
       " 4557     Zimbabwe        Zambia    1\n",
       " \n",
       " [4558 rows x 3 columns],\n",
       " 225,\n",
       " 4558)"
      ]
     },
     "execution_count": 26,
     "metadata": {},
     "output_type": "execute_result"
    }
   ],
   "source": [
    "a = read(filename, \"weights\", sep = ',')\n",
    "a"
   ]
  },
  {
   "cell_type": "code",
   "execution_count": null,
   "metadata": {},
   "outputs": [],
   "source": []
  }
 ],
 "metadata": {
  "kernelspec": {
   "display_name": "Python 3",
   "language": "python",
   "name": "python3"
  },
  "language_info": {
   "codemirror_mode": {
    "name": "ipython",
    "version": 3
   },
   "file_extension": ".py",
   "mimetype": "text/x-python",
   "name": "python",
   "nbconvert_exporter": "python",
   "pygments_lexer": "ipython3",
   "version": "3.8.3"
  }
 },
 "nbformat": 4,
 "nbformat_minor": 4
}
