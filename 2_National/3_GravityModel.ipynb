{
 "cells": [
  {
   "cell_type": "markdown",
   "metadata": {},
   "source": [
    "# Estimating Edge Weights"
   ]
  },
  {
   "cell_type": "code",
   "execution_count": 30,
   "metadata": {},
   "outputs": [],
   "source": [
    "import numpy as np\n",
    "import networkx as nx\n",
    "from collections import Counter\n",
    "import matplotlib.pyplot as plt\n",
    "import statistics as stats\n",
    "import seaborn as sns\n",
    "import math\n",
    "from sklearn.metrics import mean_squared_error, mean_absolute_error, mean_absolute_percentage_error, median_absolute_error\n",
    "sns.set()"
   ]
  },
  {
   "cell_type": "markdown",
   "metadata": {},
   "source": [
    "## Loading the network\n",
    "Checking that the network loaded correctly"
   ]
  },
  {
   "cell_type": "code",
   "execution_count": 36,
   "metadata": {},
   "outputs": [
    {
     "name": "stdout",
     "output_type": "stream",
     "text": [
      "Name: \n",
      "Type: Graph\n",
      "Number of nodes: 98\n",
      "Number of edges: 2748\n",
      "Average degree:  56.0816\n"
     ]
    }
   ],
   "source": [
    "G = nx.read_gpickle('networks/OD.gpickle')\n",
    "print(nx.info(G))"
   ]
  },
  {
   "cell_type": "markdown",
   "metadata": {},
   "source": [
    "## Extracting the distance data from the web scraper\n",
    "Making a function to extract the numbers we need from the strings"
   ]
  },
  {
   "cell_type": "code",
   "execution_count": 37,
   "metadata": {},
   "outputs": [
    {
     "data": {
      "text/plain": [
       "{'Distance(km)': 189.0, 'Distance(minutes)': 128}"
      ]
     },
     "execution_count": 37,
     "metadata": {},
     "output_type": "execute_result"
    }
   ],
   "source": [
    "test = 'Afstanden mellem Ringkøbing-Skjern og Odense er 154 kilometer og køreafstand er 189 kilometer. Den forventede køretid fra Ringkøbing-Skjern til Odense er 2 timer 8 minutter.'\n",
    "\n",
    "def data_extractor(text):\n",
    "    tokens = text.split()\n",
    "    numbers = [t for t in tokens if t.isnumeric()]\n",
    "    if len(numbers) > 0:\n",
    "        distance = float(numbers[1])\n",
    "        minutes = int(numbers[-1])\n",
    "        if len(numbers) > 3:\n",
    "            hours = int(numbers[2])\n",
    "            minutes += hours * 60\n",
    "        return {'Distance(km)':distance,'Distance(minutes)': minutes}\n",
    "    else:\n",
    "        return 'error'\n",
    "\n",
    "data_extractor(test)"
   ]
  },
  {
   "cell_type": "markdown",
   "metadata": {},
   "source": [
    "Making a function to read in the csv-file made by the web scraper and output a dictionary of edges and their extracted attributes."
   ]
  },
  {
   "cell_type": "code",
   "execution_count": 38,
   "metadata": {},
   "outputs": [],
   "source": [
    "def make_distance_dict():\n",
    "    distance_dict = {}\n",
    "    wrong = set()\n",
    "    with open('data/distancedata.csv') as f:\n",
    "        lines = f.readlines()\n",
    "        for line in lines:\n",
    "            vals = line.split(';')\n",
    "            raw_edge = vals[0][1:-1].split(',')\n",
    "            edge = (raw_edge[0][1:-1], raw_edge[1][2:-1])\n",
    "            string = vals[1]\n",
    "            res = data_extractor(string)\n",
    "            if res == 'error':\n",
    "                wrong.add(edge)\n",
    "            else:\n",
    "                distance_dict[edge] = res\n",
    "                if edge in wrong:\n",
    "                    wrong.remove(edge)\n",
    "    if len(wrong) > 0:\n",
    "        print(wrong)\n",
    "    return distance_dict"
   ]
  },
  {
   "cell_type": "code",
   "execution_count": 39,
   "metadata": {},
   "outputs": [
    {
     "data": {
      "text/plain": [
       "4249"
      ]
     },
     "execution_count": 39,
     "metadata": {},
     "output_type": "execute_result"
    }
   ],
   "source": [
    "distance_dict = make_distance_dict()\n",
    "len(distance_dict)"
   ]
  },
  {
   "cell_type": "markdown",
   "metadata": {},
   "source": [
    "Adding the distance attributes to the existing edges"
   ]
  },
  {
   "cell_type": "code",
   "execution_count": 44,
   "metadata": {},
   "outputs": [
    {
     "data": {
      "text/plain": [
       "{'weight': 45305, 'Distance(km)': 303.0, 'Distance(minutes)': 227}"
      ]
     },
     "execution_count": 44,
     "metadata": {},
     "output_type": "execute_result"
    }
   ],
   "source": [
    "nx.set_edge_attributes(G, distance_dict)\n",
    "G.edges[('Aalborg', 'København')]"
   ]
  },
  {
   "cell_type": "markdown",
   "metadata": {},
   "source": [
    "# Gravity model\n",
    "\n",
    "We use the gravity model to calculate the edge weights for the isolated nodes."
   ]
  },
  {
   "cell_type": "markdown",
   "metadata": {},
   "source": [
    "$I_{ij} = k \\left(\\frac{P_iP_j}{D_{ij}^b}\\right)$\n",
    "\n",
    "(Use distance in minutes of travel time instead of distance in kilometers - maybe even squared to penalise long distances)\n",
    "\n",
    "\n",
    "### Reverse engineering the constant k\n",
    "\n",
    "We need to find our constant. Since we aready have the true weights and distances for many of the edges, this allows us to reverse engineer the constant via a simple equation isolating the constant for each edge. The self-loops have been removed, as the distance here is zero, and we want to avoid a zero division error."
   ]
  },
  {
   "cell_type": "code",
   "execution_count": 45,
   "metadata": {},
   "outputs": [],
   "source": [
    "def get_constant(attribute=None, power=False, detail = True):\n",
    "    constants = []\n",
    "    wmin = 100\n",
    "    wmax = -100\n",
    "\n",
    "    for e in G.edges:\n",
    "        origin = e[0]\n",
    "        destination = e[1]\n",
    "        not_disconnected = bool(len(G.edges(origin)) > 0 and len(G.edges(destination))> 0)\n",
    "        if origin != destination and not_disconnected:\n",
    "            if attribute == None:\n",
    "                distance = len(paths[origin][destination])-1\n",
    "            else:\n",
    "                distance = G[origin][destination][attribute]\n",
    "            if power:\n",
    "                distance = distance ** power\n",
    "            pop1 = G.nodes[origin]['Population size']\n",
    "            pop2 = G.nodes[destination]['Population size']\n",
    "            w = G[origin][destination][\"weight\"]\n",
    "            if w > wmax:\n",
    "                wmax = w\n",
    "            if w < wmin:\n",
    "                wmin = w\n",
    "            const = w / ((pop1*pop2) / distance)\n",
    "            constants.append(const)\n",
    "    constant_median = stats.median(constants)\n",
    "    constant_mean = stats.mean(constants)\n",
    "    print('weights min/max: ', wmin, '/', wmax)\n",
    "    if detail == True:\n",
    "        print('median constant: ', constant_median)\n",
    "        print('mean constant: ', constant_mean)\n",
    "        print('min/max constant: ', min(constants), '/', max(constants))\n",
    "        print('-----------------------------------------\\n')\n",
    "\n",
    "        count = dict(Counter(constants))\n",
    "        k = list(count.keys())\n",
    "        v = list(count.values())\n",
    "\n",
    "        plt.figure(figsize=(4,2.7))#, dpi=400)\n",
    "        plt.hist(constants, 100);\n",
    "        plt.xlabel('Derived Value of $k_{ij}$')\n",
    "        plt.ylabel('#Occurences')\n",
    "        plt.tight_layout()\n",
    "        #plt.savefig('visualisations/k.jpg')\n",
    "        plt.show()\n",
    "\n",
    "    \n",
    "    return constants, constant_median, constant_mean"
   ]
  },
  {
   "cell_type": "markdown",
   "metadata": {},
   "source": [
    "### Checking the error of our estimates\n",
    "\n",
    "To see how far we are off in our gravity model estimation, we need to calculate root-mean-square deviation of the known edge-weights compared to what we get with our estimated paramters. Note: the RMSD measure is very sensitive to outliers.\n",
    "\n",
    "\n",
    "The normalised measures are made by dividing the error with the true weight of each edge."
   ]
  },
  {
   "cell_type": "code",
   "execution_count": 46,
   "metadata": {},
   "outputs": [],
   "source": [
    "from collections import Counter\n",
    "\n",
    "def error(constant, attribute=None, power=False, norm=False):\n",
    "    Wpreds = []\n",
    "    Ws = []\n",
    "    diff = []\n",
    "    diff_norm = []\n",
    "    for e in G.edges:\n",
    "        origin = e[0]\n",
    "        destination = e[1]\n",
    "        not_disconnected = bool(len(G.edges(origin)) > 0 and len(G.edges(destination))> 0)\n",
    "        if origin != destination and not_disconnected:\n",
    "            if attribute == None:\n",
    "                distance = len(paths[origin][destination])-1\n",
    "            else:\n",
    "                distance = G[origin][destination][attribute]\n",
    "            if power:\n",
    "                distance = distance ** power\n",
    "            pop1 = G.nodes[origin]['Population size']\n",
    "            pop2 = G.nodes[destination]['Population size']\n",
    "            w = G[origin][destination][\"weight\"]\n",
    "            w_est = constant * ((pop1*pop2) / distance)\n",
    "            diff.append(math.sqrt((w-w_est)**2))\n",
    "            Ws.append(w)\n",
    "            Wpreds.append(w_est)\n",
    "            if norm == True:\n",
    "                diff_norm.append((math.sqrt((w-w_est)**2))/w)\n",
    "    print('RMSE: ', mean_squared_error(Ws, Wpreds, squared=False))\n",
    "    print('MSE: ', mean_squared_error(Ws, Wpreds, squared=True))\n",
    "    print('MAE: ', mean_absolute_error(Ws, Wpreds))\n",
    "    print('MAPE: ', mean_absolute_percentage_error(Ws, Wpreds))\n",
    "    print('MDAE: ', median_absolute_error(Ws, Wpreds))\n",
    "    mean_error = stats.mean(diff)\n",
    "    median_error = stats.median(diff)\n",
    "    print('mean error: ', mean_error)\n",
    "    print('median error: ', median_error)\n",
    "\n",
    "\n",
    "    \n",
    "    if norm == True:\n",
    "        print('..')\n",
    "        print('normalised mean error: ', stats.mean(diff_norm))\n",
    "        print('normalised median error: ', stats.median(diff_norm))\n",
    "\n",
    "def test(attribute=None, power=False, norm=False):\n",
    "    _, c_median, c_mean = get_constant(attribute, power)\n",
    "\n",
    "    _c = [c_median, c_mean, 1]\n",
    "    _cn = ['Using median constant', 'Using mean constant', 'Using 1']\n",
    "\n",
    "    for c, cn in zip(_c, _cn):\n",
    "            print(cn + '\\n')\n",
    "            error(c, attribute, power, norm)\n",
    "            print('\\n---------------------------------------------------')"
   ]
  },
  {
   "cell_type": "markdown",
   "metadata": {},
   "source": [
    "Inspecting the mean and median of the constants, and plotting the distributions.  \n",
    "\n",
    "By visual inspection, it seems clear that the median will be the most descriptive, as we have some serious outliers."
   ]
  },
  {
   "cell_type": "markdown",
   "metadata": {},
   "source": [
    "## Distance in minutes"
   ]
  },
  {
   "cell_type": "code",
   "execution_count": 48,
   "metadata": {},
   "outputs": [
    {
     "name": "stdout",
     "output_type": "stream",
     "text": [
      "weights min/max:  1 / 2785260\n",
      "median constant:  1.7710874233057276e-05\n",
      "mean constant:  9.389815308458761e-05\n",
      "min/max constant:  2.6762120283476864e-08 / 0.003326560916665168\n",
      "-----------------------------------------\n",
      "\n"
     ]
    },
    {
     "data": {
      "image/png": "[encoded data removed]",
      "text/plain": [
       "<Figure size 288x194.4 with 1 Axes>"
      ]
     },
     "metadata": {},
     "output_type": "display_data"
    },
    {
     "name": "stdout",
     "output_type": "stream",
     "text": [
      "Using median constant\n",
      "\n",
      "RMSE:  157758.45355013653\n",
      "MSE:  24887729666.53059\n",
      "MAE:  24223.113641980668\n",
      "MAPE:  9.05770965695887\n",
      "MDAE:  407.2761755412025\n",
      "mean error:  24223.113641980668\n",
      "median error:  407.2761755412025\n",
      "\n",
      "---------------------------------------------------\n",
      "Using mean constant\n",
      "\n",
      "RMSE:  140226.89164782315\n",
      "MSE:  19663581141.21034\n",
      "MAE:  22324.95875272411\n",
      "MAPE:  49.18680740199723\n",
      "MDAE:  2115.5781501020115\n",
      "mean error:  22324.958752724113\n",
      "median error:  2115.5781501020115\n",
      "\n",
      "---------------------------------------------------\n",
      "Using 1\n",
      "\n",
      "RMSE:  383985573.8918764\n",
      "MSE:  1.4744492095707366e+17\n",
      "MAE:  83655739.10560976\n",
      "MAPE:  532334.8421009737\n",
      "MDAE:  30237107.95179487\n",
      "mean error:  83655739.10560976\n",
      "median error:  30237107.95179487\n",
      "\n",
      "---------------------------------------------------\n"
     ]
    }
   ],
   "source": [
    "test('Distance(minutes)');"
   ]
  },
  {
   "cell_type": "markdown",
   "metadata": {},
   "source": [
    "## Distance in minutes squared"
   ]
  },
  {
   "cell_type": "code",
   "execution_count": 49,
   "metadata": {},
   "outputs": [
    {
     "name": "stdout",
     "output_type": "stream",
     "text": [
      "weights min/max:  1 / 2785260\n",
      "median constant:  0.0015780262380865658\n",
      "mean constant:  0.005012188621713835\n",
      "min/max constant:  1.1468431075626477e-06 / 0.21056210114252036\n",
      "-----------------------------------------\n",
      "\n"
     ]
    },
    {
     "data": {
      "image/png": "[encoded data removed]",
      "text/plain": [
       "<Figure size 288x194.4 with 1 Axes>"
      ]
     },
     "metadata": {},
     "output_type": "display_data"
    },
    {
     "name": "stdout",
     "output_type": "stream",
     "text": [
      "Using median constant\n",
      "\n",
      "RMSE:  160894.51827130356\n",
      "MSE:  25887046009.754833\n",
      "MAE:  23157.599432705392\n",
      "MAPE:  7.503752909263288\n",
      "MDAE:  392.9156433389779\n",
      "mean error:  23157.599432705392\n",
      "median error:  392.9156433389779\n",
      "\n",
      "---------------------------------------------------\n",
      "Using mean constant\n",
      "\n",
      "RMSE:  371061.47931257903\n",
      "MSE:  137686621429.63953\n",
      "MAE:  26974.560080272277\n",
      "MAPE:  24.341579604212384\n",
      "MDAE:  1048.2612630104427\n",
      "mean error:  26974.560080272273\n",
      "median error:  1048.2612630104427\n",
      "\n",
      "---------------------------------------------------\n",
      "Using 1\n",
      "\n",
      "RMSE:  80887583.16806014\n",
      "MSE:  6542801110769847.0\n",
      "MAE:  4519256.703929442\n",
      "MAPE:  5009.763701715675\n",
      "MDAE:  315095.84748545696\n",
      "mean error:  4519256.703929441\n",
      "median error:  315095.84748545696\n",
      "\n",
      "---------------------------------------------------\n"
     ]
    }
   ],
   "source": [
    "test('Distance(minutes)', power=2)"
   ]
  },
  {
   "cell_type": "markdown",
   "metadata": {},
   "source": [
    "## Distance in kilometers"
   ]
  },
  {
   "cell_type": "code",
   "execution_count": 51,
   "metadata": {},
   "outputs": [
    {
     "name": "stdout",
     "output_type": "stream",
     "text": [
      "weights min/max:  1 / 2785260\n",
      "median constant:  2.4449218990158516e-05\n",
      "mean constant:  0.00011720271760787699\n",
      "min/max constant:  3.3201669877109445e-08 / 0.0043428433360644825\n",
      "-----------------------------------------\n",
      "\n"
     ]
    },
    {
     "data": {
      "image/png": "[encoded data removed]",
      "text/plain": [
       "<Figure size 288x194.4 with 1 Axes>"
      ]
     },
     "metadata": {},
     "output_type": "display_data"
    },
    {
     "name": "stdout",
     "output_type": "stream",
     "text": [
      "Using median constant\n",
      "\n",
      "RMSE:  155068.76237609377\n",
      "MSE:  24046321064.85344\n",
      "MAE:  23947.46242973989\n",
      "MAPE:  9.050090215943317\n",
      "MDAE:  417.55790868928204\n",
      "mean error:  23947.462429739895\n",
      "median error:  417.55790868928204\n",
      "\n",
      "---------------------------------------------------\n",
      "Using mean constant\n",
      "\n",
      "RMSE:  133694.03805705046\n",
      "MSE:  17874095812.000057\n",
      "MAE:  21457.961514439696\n",
      "MAPE:  44.30068873714054\n",
      "MDAE:  1794.6554392571384\n",
      "mean error:  21457.961514439696\n",
      "median error:  1794.6554392571384\n",
      "\n",
      "---------------------------------------------------\n",
      "Using 1\n",
      "\n",
      "RMSE:  484963976.8295227\n",
      "MSE:  2.3519005882230586e+17\n",
      "MAE:  74118591.83634783\n",
      "MAPE:  384684.18603369675\n",
      "MDAE:  21336354.484149195\n",
      "mean error:  74118591.83634782\n",
      "median error:  21336354.484149195\n",
      "\n",
      "---------------------------------------------------\n"
     ]
    }
   ],
   "source": [
    "test('Distance(km)')"
   ]
  },
  {
   "cell_type": "markdown",
   "metadata": {},
   "source": [
    "## Distance in kilometers squared"
   ]
  },
  {
   "cell_type": "code",
   "execution_count": 52,
   "metadata": {},
   "outputs": [
    {
     "name": "stdout",
     "output_type": "stream",
     "text": [
      "weights min/max:  1 / 2785260\n",
      "median constant:  0.003129828616171929\n",
      "mean constant:  0.010393117812853958\n",
      "min/max constant:  1.6303494472895038e-06 / 0.5732553203605117\n",
      "-----------------------------------------\n",
      "\n"
     ]
    },
    {
     "data": {
      "image/png": "[encoded data removed]",
      "text/plain": [
       "<Figure size 288x194.4 with 1 Axes>"
      ]
     },
     "metadata": {},
     "output_type": "display_data"
    },
    {
     "name": "stdout",
     "output_type": "stream",
     "text": [
      "Using median constant\n",
      "\n",
      "RMSE:  415368.3079067148\n",
      "MSE:  172530831213.28745\n",
      "MAE:  28242.379153090005\n",
      "MAPE:  9.544216578460063\n",
      "MDAE:  444.58276473025654\n",
      "mean error:  28242.379153090005\n",
      "median error:  444.58276473025654\n",
      "\n",
      "---------------------------------------------------\n",
      "Using mean constant\n",
      "\n",
      "RMSE:  1436455.313531722\n",
      "MSE:  2063403867773.5178\n",
      "MAE:  57225.53576630097\n",
      "MAPE:  32.2126127259075\n",
      "MDAE:  1066.1847785347218\n",
      "mean error:  57225.53576630098\n",
      "median error:  1066.1847785347218\n",
      "\n",
      "---------------------------------------------------\n",
      "Using 1\n",
      "\n",
      "RMSE:  143307367.37671378\n",
      "MSE:  2.0537001544444412e+16\n",
      "MAE:  5990145.943580223\n",
      "MAPE:  3172.8338272455885\n",
      "MDAE:  144414.8043187935\n",
      "mean error:  5990145.943580223\n",
      "median error:  144414.8043187935\n",
      "\n",
      "---------------------------------------------------\n"
     ]
    }
   ],
   "source": [
    "test('Distance(km)', power=2)"
   ]
  },
  {
   "cell_type": "markdown",
   "metadata": {},
   "source": [
    "# Generating the new edges using best parameters"
   ]
  },
  {
   "cell_type": "markdown",
   "metadata": {},
   "source": [
    "Identifying the nodes which were not connected in the network"
   ]
  },
  {
   "cell_type": "code",
   "execution_count": 18,
   "metadata": {},
   "outputs": [
    {
     "name": "stdout",
     "output_type": "stream",
     "text": [
      "weights min/max:  1.0 / 2785260.0\n"
     ]
    },
    {
     "data": {
      "text/plain": [
       "19"
      ]
     },
     "execution_count": 18,
     "metadata": {},
     "output_type": "execute_result"
    }
   ],
   "source": [
    "missing = [node for node in G.nodes if G.degree[node] == 0]\n",
    "c = get_constant(attribute='Distance(minutes)',power=2, detail=False)[1]\n",
    "\n",
    "len(missing)"
   ]
  },
  {
   "cell_type": "code",
   "execution_count": 53,
   "metadata": {},
   "outputs": [],
   "source": [
    "def calculate_w(origin, destination, constant):\n",
    "    if (origin, destination) in distance_dict:\n",
    "        distance = distance_dict[(origin, destination)]['Distance(minutes)'] **2\n",
    "        pop_origin = G.nodes[origin]['Population size']\n",
    "        pop_destination = G.nodes[destination]['Population size']\n",
    "        w = constant * ((pop_origin*pop_destination) / distance)\n",
    "        return w\n",
    "    else: \n",
    "        return None\n",
    "    \n",
    "def generate_edges(constant):\n",
    "    c = 0\n",
    "    print(len(G.nodes))\n",
    "    for muni1 in missing:\n",
    "        for muni2 in G.nodes:\n",
    "            if muni1 != muni2:\n",
    "                fake_weight = calculate_w(muni1, muni2, constant)\n",
    "                if fake_weight != None:\n",
    "                    G.add_edge(muni1, muni2, weight = round(fake_weight))\n",
    "                    c += 1\n",
    "    print('Total edges added: ', c)\n",
    "    return G"
   ]
  },
  {
   "cell_type": "code",
   "execution_count": 20,
   "metadata": {},
   "outputs": [
    {
     "name": "stdout",
     "output_type": "stream",
     "text": [
      "98\n",
      "Total edges added:  1501\n"
     ]
    },
    {
     "data": {
      "text/plain": [
       "AtlasView({'Aabenraa': {'weight': 464}, 'Aalborg': {'weight': 464}, 'Aarhus': {'weight': 2215}, 'Assens': {'weight': 991}, 'Brønderslev': {'weight': 62}, 'København': {'weight': 1673}, 'Esbjerg': {'weight': 804}, 'Faaborg-Midtfyn': {'weight': 1192}, 'Favrskov': {'weight': 268}, 'Faxe': {'weight': 106}, 'Fredensborg': {'weight': 81}, 'Fredericia': {'weight': 1666}, 'Frederikshavn': {'weight': 83}, 'Gentofte': {'weight': 189}, 'Guldborgsund': {'weight': 117}, 'Haderslev': {'weight': 636}, 'Hedensted': {'weight': 697}, 'Helsingør': {'weight': 116}, 'Herning': {'weight': 539}, 'Hjørring': {'weight': 94}, 'Holbæk': {'weight': 249}, 'Holstebro': {'weight': 223}, 'Horsens': {'weight': 1008}, 'Høje-Taastrup': {'weight': 160}, 'Hørsholm': {'weight': 57}, 'Ikast-Brande': {'weight': 234}, 'Kalundborg': {'weight': 187}, 'Kerteminde': {'weight': 429}, 'Kolding': {'weight': 2061}, 'Køge': {'weight': 240}, 'Lejre': {'weight': 101}, 'Lolland': {'weight': 86}, 'Mariagerfjord': {'weight': 136}, 'Middelfart': {'weight': 1776}, 'Nyborg': {'weight': 533}, 'Næstved': {'weight': 340}, 'Odense': {'weight': 7401}, 'Odsherred': {'weight': 86}, 'Randers': {'weight': 415}, 'Rebild': {'weight': 72}, 'Ringkøbing-Skjern': {'weight': 167}, 'Ringsted': {'weight': 189}, 'Roskilde': {'weight': 281}, 'Rudersdal': {'weight': 139}, 'Silkeborg': {'weight': 488}, 'Skanderborg': {'weight': 536}, 'Skive': {'weight': 125}, 'Slagelse': {'weight': 578}, 'Solrød': {'weight': 87}, 'Sorø': {'weight': 181}, 'Struer': {'weight': 67}, 'Svendborg': {'weight': 784}, 'Sønderborg': {'weight': 377}, 'Thisted': {'weight': 63}, 'Tårnby': {'weight': 121}, 'Varde': {'weight': 324}, 'Vejen': {'weight': 638}, 'Vejle': {'weight': 2257}, 'Viborg': {'weight': 315}, 'Vordingborg': {'weight': 122}, 'Allerød': {'weight': 60}, 'Ballerup': {'weight': 141}, 'Frederiksberg': {'weight': 280}, 'Frederikssund': {'weight': 104}, 'Furesø': {'weight': 105}, 'Gladsaxe': {'weight': 189}, 'Glostrup': {'weight': 69}, 'Herlev': {'weight': 80}, 'Hillerød': {'weight': 105}, 'Hvidovre': {'weight': 158}, 'Lyngby-Taarbæk': {'weight': 147}, 'Rødovre': {'weight': 116}, 'Tønder': {'weight': 153}, 'Vallensbæk': {'weight': 54}, 'Albertslund': {'weight': 87}, 'Brøndby': {'weight': 109}, 'Greve': {'weight': 173}, 'Egedal': {'weight': 105}, 'Ishøj': {'weight': 75}})"
      ]
     },
     "execution_count": 20,
     "metadata": {},
     "output_type": "execute_result"
    }
   ],
   "source": [
    "H = generate_edges(c)\n",
    "\n",
    "\n",
    "H['Nordfyns']"
   ]
  },
  {
   "cell_type": "markdown",
   "metadata": {},
   "source": [
    "### Removing self-loops"
   ]
  },
  {
   "cell_type": "code",
   "execution_count": 22,
   "metadata": {},
   "outputs": [],
   "source": [
    "H.remove_edges_from(nx.selfloop_edges(H))"
   ]
  },
  {
   "cell_type": "code",
   "execution_count": 23,
   "metadata": {},
   "outputs": [
    {
     "data": {
      "text/plain": [
       "[]"
      ]
     },
     "execution_count": 23,
     "metadata": {},
     "output_type": "execute_result"
    }
   ],
   "source": [
    "list(nx.selfloop_edges(H))"
   ]
  },
  {
   "cell_type": "code",
   "execution_count": 24,
   "metadata": {},
   "outputs": [],
   "source": [
    "nx.write_gpickle(H, \"networks/gravityNoselfloops.gpickle\")"
   ]
  },
  {
   "cell_type": "code",
   "execution_count": 25,
   "metadata": {},
   "outputs": [],
   "source": [
    "nx.write_weighted_edgelist(H, \"networks/gravityNoselfloops.edgelist\")"
   ]
  },
  {
   "cell_type": "code",
   "execution_count": 26,
   "metadata": {},
   "outputs": [
    {
     "name": "stdout",
     "output_type": "stream",
     "text": [
      "Aabenraa Aalborg 1934.0\r\n",
      "Aabenraa Aarhus 12247.0\r\n",
      "Aabenraa Assens 178.0\r\n",
      "Aabenraa Brønderslev 229.0\r\n",
      "Aabenraa København 32240.0\r\n",
      "Aabenraa Esbjerg 3336.0\r\n",
      "Aabenraa Faaborg-Midtfyn 173.0\r\n",
      "Aabenraa Favrskov 422.0\r\n",
      "Aabenraa Faxe 18.0\r\n",
      "Aabenraa Fredensborg 96.0\r\n"
     ]
    }
   ],
   "source": [
    "!head networks/gravityNoselfloops.edgelist"
   ]
  },
  {
   "cell_type": "code",
   "execution_count": 54,
   "metadata": {},
   "outputs": [
    {
     "name": "stdout",
     "output_type": "stream",
     "text": [
      "Name: \n",
      "Type: Graph\n",
      "Number of nodes: 98\n",
      "Number of edges: 4191\n",
      "Average degree:  85.5306\n"
     ]
    }
   ],
   "source": [
    "print(nx.info(H))"
   ]
  },
  {
   "cell_type": "code",
   "execution_count": null,
   "metadata": {},
   "outputs": [],
   "source": []
  },
  {
   "cell_type": "code",
   "execution_count": null,
   "metadata": {},
   "outputs": [],
   "source": []
  }
 ],
 "metadata": {
  "kernelspec": {
   "display_name": "Python 3",
   "language": "python",
   "name": "python3"
  },
  "language_info": {
   "codemirror_mode": {
    "name": "ipython",
    "version": 3
   },
   "file_extension": ".py",
   "mimetype": "text/x-python",
   "name": "python",
   "nbconvert_exporter": "python",
   "pygments_lexer": "ipython3",
   "version": "3.6.5"
  }
 },
 "nbformat": 4,
 "nbformat_minor": 2
}
