{
 "cells": [
  {
   "cell_type": "markdown",
   "metadata": {},
   "source": [
    "# Backboning the network with HSS"
   ]
  },
  {
   "cell_type": "code",
   "execution_count": 4,
   "metadata": {},
   "outputs": [],
   "source": [
    "import modules.backboning as bb\n",
    "import networkx as nx\n",
    "import pickle\n",
    "from collections import Counter\n",
    "import matplotlib.pyplot as plt"
   ]
  },
  {
   "cell_type": "markdown",
   "metadata": {},
   "source": [
    "## Preparing correct input format\n",
    "\n",
    "Loading in network with added edges generated using the gravity model  \n",
    "All self-loops removed"
   ]
  },
  {
   "cell_type": "code",
   "execution_count": 5,
   "metadata": {},
   "outputs": [],
   "source": [
    "G = nx.read_gpickle('networks/gravityNoselfloops.gpickle')"
   ]
  },
  {
   "cell_type": "markdown",
   "metadata": {},
   "source": [
    "As we have an undirected network, I make sure that both directions of the edges present in the graph's edgelist with the same weights."
   ]
  },
  {
   "cell_type": "code",
   "execution_count": 6,
   "metadata": {},
   "outputs": [
    {
     "name": "stdout",
     "output_type": "stream",
     "text": [
      "True\n",
      "True\n",
      "Name: \n",
      "Type: Graph\n",
      "Number of nodes: 98\n",
      "Number of edges: 4191\n",
      "Average degree:  85.5306\n"
     ]
    }
   ],
   "source": [
    "print(('Aalborg', 'Aabenraa') in G.edges and ('Aabenraa', 'Aalborg') in G.edges)\n",
    "print(G['Aalborg']['Aabenraa'] == G['Aabenraa']['Aalborg'])\n",
    "print(nx.info(G))"
   ]
  },
  {
   "cell_type": "markdown",
   "metadata": {},
   "source": [
    "Writing to tab separated weighted edgelist"
   ]
  },
  {
   "cell_type": "code",
   "execution_count": 7,
   "metadata": {},
   "outputs": [
    {
     "name": "stdout",
     "output_type": "stream",
     "text": [
      "Aabenraa\tAalborg\t1934.0\r\n",
      "Aabenraa\tAarhus\t12247.0\r\n",
      "Aabenraa\tAssens\t178.0\r\n",
      "Aabenraa\tBrønderslev\t229.0\r\n",
      "Aabenraa\tKøbenhavn\t32240.0\r\n",
      "Aabenraa\tEsbjerg\t3336.0\r\n",
      "Aabenraa\tFaaborg-Midtfyn\t173.0\r\n",
      "Aabenraa\tFavrskov\t422.0\r\n",
      "Aabenraa\tFaxe\t18.0\r\n",
      "Aabenraa\tFredensborg\t96.0\r\n"
     ]
    }
   ],
   "source": [
    "nx.write_weighted_edgelist(G, 'networks/bb.edgelist', delimiter='\\t')\n",
    "\n",
    "! head 'networks/bb.edgelist'"
   ]
  },
  {
   "cell_type": "code",
   "execution_count": 62,
   "metadata": {},
   "outputs": [
    {
     "name": "stdout",
     "output_type": "stream",
     "text": [
      "    4191 networks/bb.edgelist\r\n"
     ]
    }
   ],
   "source": [
    "! wc -l 'networks/bb.edgelist'"
   ]
  },
  {
   "cell_type": "markdown",
   "metadata": {},
   "source": [
    "### Adding header with specified column names"
   ]
  },
  {
   "cell_type": "code",
   "execution_count": 63,
   "metadata": {},
   "outputs": [],
   "source": [
    "f = open('networks/bb.edgelist', 'r')\n",
    "data = f.read()\n",
    "f.close()\n",
    "\n",
    "fout = open('networks/bb.edgelist', 'w')\n",
    "header = 'src\\ttrg\\tweight\\n'\n",
    "fout.write(header)\n",
    "fout.write(data)\n",
    "fout.close()"
   ]
  },
  {
   "cell_type": "code",
   "execution_count": 64,
   "metadata": {},
   "outputs": [
    {
     "name": "stdout",
     "output_type": "stream",
     "text": [
      "src\ttrg\tweight\r\n",
      "Aabenraa\tAalborg\t1934.0\r\n",
      "Aabenraa\tAarhus\t12247.0\r\n",
      "Aabenraa\tAssens\t178.0\r\n",
      "Aabenraa\tBrønderslev\t229.0\r\n",
      "Aabenraa\tKøbenhavn\t32240.0\r\n",
      "Aabenraa\tEsbjerg\t3336.0\r\n",
      "Aabenraa\tFaaborg-Midtfyn\t173.0\r\n",
      "Aabenraa\tFavrskov\t422.0\r\n",
      "Aabenraa\tFaxe\t18.0\r\n"
     ]
    }
   ],
   "source": [
    "! head 'networks/bb.edgelist'"
   ]
  },
  {
   "cell_type": "code",
   "execution_count": 65,
   "metadata": {},
   "outputs": [
    {
     "name": "stdout",
     "output_type": "stream",
     "text": [
      "    4192 networks/bb.edgelist\r\n"
     ]
    }
   ],
   "source": [
    "! wc -l 'networks/bb.edgelist'"
   ]
  },
  {
   "cell_type": "markdown",
   "metadata": {},
   "source": [
    "## Reading in the edgelist"
   ]
  },
  {
   "cell_type": "code",
   "execution_count": 66,
   "metadata": {},
   "outputs": [
    {
     "data": {
      "text/plain": [
       "(           src          trg      nij\n",
       " 0     Aabenraa      Aalborg   1934.0\n",
       " 1     Aabenraa       Aarhus  12247.0\n",
       " 2     Aabenraa       Assens    178.0\n",
       " 3     Aabenraa  Brønderslev    229.0\n",
       " 4     Aabenraa    København  32240.0\n",
       " ...        ...          ...      ...\n",
       " 4186     Ishøj     Syddjurs     95.0\n",
       " 4187     Ishøj       Stevns    409.0\n",
       " 4188     Ishøj      Billund     40.0\n",
       " 4189     Ishøj        Samsø      6.0\n",
       " 4190     Ishøj         Fanø      4.0\n",
       " \n",
       " [4190 rows x 3 columns], 98, 2095.0)"
      ]
     },
     "execution_count": 66,
     "metadata": {},
     "output_type": "execute_result"
    }
   ],
   "source": [
    "panda = bb.read('networks/bb.edgelist', column_of_interest='weight', undirected = True)\n",
    "panda"
   ]
  },
  {
   "cell_type": "markdown",
   "metadata": {},
   "source": [
    "We have a zero-value for one of the edge-weights, so that edge is dropped. This is why we are down to 4190 edges."
   ]
  },
  {
   "cell_type": "code",
   "execution_count": 67,
   "metadata": {},
   "outputs": [],
   "source": [
    "table, n_nodes, n_edges = panda"
   ]
  },
  {
   "cell_type": "markdown",
   "metadata": {},
   "source": [
    "# High-Salience Skeleton\n",
    "\n",
    "Exchange structure focus -- shortest path membership edgeweight calibration"
   ]
  },
  {
   "cell_type": "code",
   "execution_count": 68,
   "metadata": {},
   "outputs": [
    {
     "name": "stderr",
     "output_type": "stream",
     "text": [
      "Calculating HSS score...\n"
     ]
    },
    {
     "data": {
      "text/plain": [
       "0.49489795918367346"
      ]
     },
     "execution_count": 68,
     "metadata": {},
     "output_type": "execute_result"
    }
   ],
   "source": [
    "hss_table = bb.high_salience_skeleton(table, undirected=True)\n",
    "\n",
    "hss_table['score'].max()"
   ]
  },
  {
   "cell_type": "code",
   "execution_count": 69,
   "metadata": {},
   "outputs": [],
   "source": [
    "#hss_test = bb.test_densities(hss_table, 0, 0.4, 0.1)\n",
    "#for s in hss_test:\n",
    "#    print(s)"
   ]
  },
  {
   "cell_type": "code",
   "execution_count": 70,
   "metadata": {},
   "outputs": [
    {
     "name": "stdout",
     "output_type": "stream",
     "text": [
      "(0.1, 98, 100.0, 1379, 32.911694510739856, 28.142857142857142, 0.3291169451073986)\n",
      "(0.11, 98, 100.0, 1303, 31.09785202863962, 26.591836734693878, 0.3109785202863962)\n",
      "(0.12, 97, 98.9795918367347, 1235, 29.474940334128878, 25.463917525773194, 0.2977880569839825)\n",
      "(0.13, 97, 98.9795918367347, 1204, 28.73508353221957, 24.824742268041238, 0.29031321506778535)\n",
      "(0.14, 97, 98.9795918367347, 1148, 27.39856801909308, 23.670103092783506, 0.27681027483207443)\n",
      "(0.15000000000000002, 97, 98.9795918367347, 1096, 26.157517899761338, 22.5979381443299, 0.2642718303274857)\n",
      "(0.16000000000000003, 97, 98.9795918367347, 1023, 24.41527446300716, 21.09278350515464, 0.24666978323450534)\n",
      "(0.17000000000000004, 96, 97.95918367346938, 1008, 24.057279236276848, 21.0, 0.24558472553699284)\n",
      "(0.18000000000000005, 93, 94.89795918367346, 989, 23.60381861575179, 21.268817204301076, 0.24872841121975006)\n",
      "(0.19000000000000006, 91, 92.85714285714286, 966, 23.05489260143198, 21.23076923076923, 0.2482834587846521)\n"
     ]
    }
   ],
   "source": [
    "hss_test = bb.test_densities(hss_table, 0.1, 0.2, 0.01)\n",
    "for s in hss_test:\n",
    "    print(s)"
   ]
  },
  {
   "cell_type": "code",
   "execution_count": 76,
   "metadata": {},
   "outputs": [
    {
     "name": "stdout",
     "output_type": "stream",
     "text": [
      "(0.1, 98, 100.0, 1379, 32.911694510739856, 28.142857142857142, 0.3291169451073986)\n",
      "(0.101, 98, 100.0, 1379, 32.911694510739856, 28.142857142857142, 0.3291169451073986)\n",
      "(0.10200000000000001, 98, 100.0, 1379, 32.911694510739856, 28.142857142857142, 0.3291169451073986)\n",
      "(0.10300000000000001, 98, 100.0, 1331, 31.766109785202865, 27.163265306122447, 0.3176610978520286)\n",
      "(0.10400000000000001, 98, 100.0, 1331, 31.766109785202865, 27.163265306122447, 0.3176610978520286)\n",
      "(0.10500000000000001, 98, 100.0, 1331, 31.766109785202865, 27.163265306122447, 0.3176610978520286)\n",
      "(0.10600000000000001, 98, 100.0, 1331, 31.766109785202865, 27.163265306122447, 0.3176610978520286)\n",
      "(0.10700000000000001, 98, 100.0, 1331, 31.766109785202865, 27.163265306122447, 0.3176610978520286)\n",
      "(0.10800000000000001, 98, 100.0, 1303, 31.09785202863962, 26.591836734693878, 0.3109785202863962)\n",
      "(0.10900000000000001, 98, 100.0, 1303, 31.09785202863962, 26.591836734693878, 0.3109785202863962)\n",
      "(0.11000000000000001, 98, 100.0, 1303, 31.09785202863962, 26.591836734693878, 0.3109785202863962)\n",
      "(0.11100000000000002, 98, 100.0, 1303, 31.09785202863962, 26.591836734693878, 0.3109785202863962)\n",
      "(0.11200000000000002, 98, 100.0, 1303, 31.09785202863962, 26.591836734693878, 0.3109785202863962)\n",
      "(0.11300000000000002, 97, 98.9795918367347, 1282, 30.596658711217184, 26.432989690721648, 0.30912088182466846)\n",
      "(0.11400000000000002, 97, 98.9795918367347, 1282, 30.596658711217184, 26.432989690721648, 0.30912088182466846)\n",
      "(0.11500000000000002, 97, 98.9795918367347, 1282, 30.596658711217184, 26.432989690721648, 0.30912088182466846)\n",
      "(0.11600000000000002, 97, 98.9795918367347, 1282, 30.596658711217184, 26.432989690721648, 0.30912088182466846)\n",
      "(0.11700000000000002, 97, 98.9795918367347, 1282, 30.596658711217184, 26.432989690721648, 0.30912088182466846)\n",
      "(0.11800000000000002, 97, 98.9795918367347, 1235, 29.474940334128878, 25.463917525773194, 0.2977880569839825)\n",
      "(0.11900000000000002, 97, 98.9795918367347, 1235, 29.474940334128878, 25.463917525773194, 0.2977880569839825)\n"
     ]
    }
   ],
   "source": [
    "hss_test = bb.test_densities(hss_table, 0.10, 0.12, 0.001)\n",
    "for s in hss_test:\n",
    "    print(s)"
   ]
  },
  {
   "cell_type": "markdown",
   "metadata": {},
   "source": [
    "The result stabilises for $0.108 \\leq t \\leq 0.112$.  \n",
    "Here we keep all nodes, but only 31.098 % of the edges.\n",
    "\n",
    "### Exporting HSS backboned network"
   ]
  },
  {
   "cell_type": "code",
   "execution_count": 88,
   "metadata": {},
   "outputs": [],
   "source": [
    "hss_backbone = bb.thresholding(hss_table, 0.108)\n",
    "bb.write(hss_backbone, \"mobility\", \"hss\", \"networks\")"
   ]
  },
  {
   "cell_type": "markdown",
   "metadata": {},
   "source": [
    "Removing the header from the edgelist file."
   ]
  },
  {
   "cell_type": "code",
   "execution_count": 89,
   "metadata": {},
   "outputs": [
    {
     "name": "stdout",
     "output_type": "stream",
     "text": [
      "    1304 networks/mobility_hss.csv\n",
      "    1303 networks/mobility_hss.csv\n"
     ]
    }
   ],
   "source": [
    "! wc -l networks/mobility_hss.csv\n",
    "\n",
    "!echo \"$(tail -n +2 networks/mobility_hss.edgelist)\" > networks/mobility_hss.edgelist\n",
    "! wc -l networks/mobility_hss.csv"
   ]
  },
  {
   "cell_type": "code",
   "execution_count": 90,
   "metadata": {},
   "outputs": [],
   "source": [
    "G = nx.read_edgelist('networks/mobility_hss.edgelist', nodetype=str, data=(('weight', float),('HSS_score', float)))\n",
    "\n",
    "with open('data/population.pickle', 'rb') as f:\n",
    "    pop = pickle.load(f)\n",
    "\n",
    "nx.set_node_attributes(G, pop, name='Population size')\n",
    "\n",
    "nx.write_gpickle(G, \"networks/final_topology.gpickle\")"
   ]
  },
  {
   "cell_type": "markdown",
   "metadata": {},
   "source": [
    "# Descriptive statistics of the final network"
   ]
  },
  {
   "cell_type": "code",
   "execution_count": 130,
   "metadata": {},
   "outputs": [
    {
     "name": "stdout",
     "output_type": "stream",
     "text": [
      "Name: \n",
      "Type: Graph\n",
      "Number of nodes: 98\n",
      "Number of edges: 1303\n",
      "Average degree:  26.5918\n",
      "diameter:  4\n",
      "avg. shortest path length:  1.8754470860509151\n"
     ]
    }
   ],
   "source": [
    "print(nx.info(G))\n",
    "print('diameter: ',nx.diameter(G))\n",
    "print('avg. shortest path length: ', nx.average_shortest_path_length(G))"
   ]
  },
  {
   "cell_type": "markdown",
   "metadata": {},
   "source": [
    "### Degree distribution"
   ]
  },
  {
   "cell_type": "code",
   "execution_count": 143,
   "metadata": {},
   "outputs": [
    {
     "name": "stdout",
     "output_type": "stream",
     "text": [
      "57\n"
     ]
    },
    {
     "data": {
      "image/png": "[encoded data removed]",
      "text/plain": [
       "<Figure size 360x288 with 1 Axes>"
      ]
     },
     "metadata": {},
     "output_type": "display_data"
    }
   ],
   "source": [
    "degree_cnts = Counter(list(dict(G.degree).values()))\n",
    "norm_cnts = [c/98 for c in degree_cnts.values()]\n",
    "degrees = [k for k in degree_cnts.keys()]\n",
    "\n",
    "print(max(degrees))\n",
    "\"\"\"\n",
    "fig, ax1 = plt.subplots(1, figsize=(5,4))#, dpi=200)\n",
    "color = 'tab:blue'\n",
    "ax1.scatter(degrees, norm_cnts)\n",
    "ax1.set_xlabel('k')\n",
    "ax1.set_ylabel('p(k)')\n",
    "plt.xscale('log')\n",
    "fig.tight_layout()\n",
    "#plt.savefig('visualisations/peaks.jpg')\n",
    "plt.show()\n",
    "\"\"\"\n",
    "import seaborn as sns\n",
    "sns.set()\n",
    "\n",
    "fig, ax1 = plt.subplots(1, figsize=(5,4))#, dpi=200)\n",
    "color = 'tab:blue'\n",
    "ax1.bar(degrees, norm_cnts)\n",
    "ax1.set_xlabel('k')\n",
    "ax1.set_ylabel('p(k)')\n",
    "fig.tight_layout()\n",
    "#plt.savefig('visualisations/degree_distribution.jpg')\n",
    "plt.show()"
   ]
  },
  {
   "cell_type": "markdown",
   "metadata": {},
   "source": [
    "### Edge Weight Distribution"
   ]
  },
  {
   "cell_type": "code",
   "execution_count": 182,
   "metadata": {},
   "outputs": [
    {
     "name": "stdout",
     "output_type": "stream",
     "text": [
      "0.00920951650038373\n"
     ]
    },
    {
     "data": {
      "image/png": "[encoded data removed]",
      "text/plain": [
       "<Figure size 360x288 with 1 Axes>"
      ]
     },
     "metadata": {},
     "output_type": "display_data"
    }
   ],
   "source": [
    "import matplotlib\n",
    "\n",
    "weight_cnts = Counter(list(dict(nx.get_edge_attributes(G,'weight')).values()))\n",
    "weight_norm_cnts = [c/1303 for c in weight_cnts.values()]\n",
    "weights = [w for w in weight_cnts.keys()]\n",
    "\n",
    "print(max(weight_norm_cnts))\n",
    "fig, ax1 = plt.subplots(1, figsize=(5,4))#, dpi=200)\n",
    "color = 'tab:blue'\n",
    "\"\"\"\n",
    "ax1.hist(weights, 100, density=True)#\n",
    "\"\"\"\n",
    "ax1.scatter(weights, weight_norm_cnts, s=5)\n",
    "ax1.set_ylim(0,0.01)\n",
    "ax1.set_xlabel('w')\n",
    "ax1.set_ylabel('p(w)')\n",
    "ax1.set_xscale('log')\n",
    "#ax1.set_yscale('log')\n",
    "ax1.grid(b=True, which='minor', color='w', linewidth=0.5)\n",
    "fig.tight_layout()\n",
    "#plt.savefig('visualisations/weight_distribution.jpg')\n",
    "plt.show()"
   ]
  }
 ],
 "metadata": {
  "kernelspec": {
   "display_name": "Python 3",
   "language": "python",
   "name": "python3"
  },
  "language_info": {
   "codemirror_mode": {
    "name": "ipython",
    "version": 3
   },
   "file_extension": ".py",
   "mimetype": "text/x-python",
   "name": "python",
   "nbconvert_exporter": "python",
   "pygments_lexer": "ipython3",
   "version": "3.6.5"
  }
 },
 "nbformat": 4,
 "nbformat_minor": 2
}
