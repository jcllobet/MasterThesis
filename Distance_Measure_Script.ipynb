{
 "cells": [
  {
   "cell_type": "code",
   "execution_count": 1,
   "metadata": {},
   "outputs": [],
   "source": [
    "import pandas as pd\n",
    "import numpy as np\n",
    "import networkx as nx\n",
    "import matplotlib.pyplot as plt\n",
    "import csv\n",
    "import sys\n",
    "\n",
    "import network_distance as nd"
   ]
  },
  {
   "cell_type": "code",
   "execution_count": 2,
   "metadata": {},
   "outputs": [],
   "source": [
    "disparity_n = \"./data/00_FINAL_CYTOSCAPE/ADDED_countries_flights_disparity_filter_backbone_02_high_threshold - MERGE.tsv\"\n",
    "hss_n = './data/0_Golden_Standard/countries_flights_norm_high_salience_backbone_02_high_threshold.tsv'\n",
    "\n",
    "backboned_n = \"./data/00_FINAL_CYTOSCAPE/ADAPTED_209_countries_flights_norm_noise_corrected_backbone_02_high_threshold.tsv\"\n",
    "country_n = \"./data/00_FINAL_CYTOSCAPE/FIXED_proximity_normalized_07.tsv\"\n",
    "cov_d = './data/0_Golden_Standard/cov_for_distance_02.tsv'"
   ]
  },
  {
   "cell_type": "code",
   "execution_count": 51,
   "metadata": {},
   "outputs": [
    {
     "data": {
      "text/html": [
       "<div>\n",
       "<style scoped>\n",
       "    .dataframe tbody tr th:only-of-type {\n",
       "        vertical-align: middle;\n",
       "    }\n",
       "\n",
       "    .dataframe tbody tr th {\n",
       "        vertical-align: top;\n",
       "    }\n",
       "\n",
       "    .dataframe thead th {\n",
       "        text-align: right;\n",
       "    }\n",
       "</style>\n",
       "<table border=\"1\" class=\"dataframe\">\n",
       "  <thead>\n",
       "    <tr style=\"text-align: right;\">\n",
       "      <th></th>\n",
       "      <th>src</th>\n",
       "      <th>trg</th>\n",
       "      <th>nij</th>\n",
       "      <th>score</th>\n",
       "    </tr>\n",
       "  </thead>\n",
       "  <tbody>\n",
       "    <tr>\n",
       "      <th>0</th>\n",
       "      <td>AFG</td>\n",
       "      <td>AZE</td>\n",
       "      <td>0.099916</td>\n",
       "      <td>0.976077</td>\n",
       "    </tr>\n",
       "    <tr>\n",
       "      <th>1</th>\n",
       "      <td>AUT</td>\n",
       "      <td>AZE</td>\n",
       "      <td>0.199832</td>\n",
       "      <td>0.990431</td>\n",
       "    </tr>\n",
       "    <tr>\n",
       "      <th>2</th>\n",
       "      <td>AFG</td>\n",
       "      <td>IND</td>\n",
       "      <td>0.380415</td>\n",
       "      <td>0.071770</td>\n",
       "    </tr>\n",
       "    <tr>\n",
       "      <th>3</th>\n",
       "      <td>BGD</td>\n",
       "      <td>IND</td>\n",
       "      <td>0.458110</td>\n",
       "      <td>0.071770</td>\n",
       "    </tr>\n",
       "    <tr>\n",
       "      <th>4</th>\n",
       "      <td>BEL</td>\n",
       "      <td>IND</td>\n",
       "      <td>0.316726</td>\n",
       "      <td>0.267943</td>\n",
       "    </tr>\n",
       "    <tr>\n",
       "      <th>...</th>\n",
       "      <td>...</td>\n",
       "      <td>...</td>\n",
       "      <td>...</td>\n",
       "      <td>...</td>\n",
       "    </tr>\n",
       "    <tr>\n",
       "      <th>975</th>\n",
       "      <td>JPN</td>\n",
       "      <td>PLW</td>\n",
       "      <td>0.231997</td>\n",
       "      <td>0.990431</td>\n",
       "    </tr>\n",
       "    <tr>\n",
       "      <th>976</th>\n",
       "      <td>FSM</td>\n",
       "      <td>PLW</td>\n",
       "      <td>0.099916</td>\n",
       "      <td>0.071770</td>\n",
       "    </tr>\n",
       "    <tr>\n",
       "      <th>977</th>\n",
       "      <td>IRL</td>\n",
       "      <td>IMN</td>\n",
       "      <td>0.099916</td>\n",
       "      <td>0.995215</td>\n",
       "    </tr>\n",
       "    <tr>\n",
       "      <th>978</th>\n",
       "      <td>MAR</td>\n",
       "      <td>ESH</td>\n",
       "      <td>0.299747</td>\n",
       "      <td>0.196172</td>\n",
       "    </tr>\n",
       "    <tr>\n",
       "      <th>979</th>\n",
       "      <td>ESP</td>\n",
       "      <td>ESH</td>\n",
       "      <td>0.258279</td>\n",
       "      <td>0.861244</td>\n",
       "    </tr>\n",
       "  </tbody>\n",
       "</table>\n",
       "<p>980 rows × 4 columns</p>\n",
       "</div>"
      ],
      "text/plain": [
       "     src  trg       nij     score\n",
       "0    AFG  AZE  0.099916  0.976077\n",
       "1    AUT  AZE  0.199832  0.990431\n",
       "2    AFG  IND  0.380415  0.071770\n",
       "3    BGD  IND  0.458110  0.071770\n",
       "4    BEL  IND  0.316726  0.267943\n",
       "..   ...  ...       ...       ...\n",
       "975  JPN  PLW  0.231997  0.990431\n",
       "976  FSM  PLW  0.099916  0.071770\n",
       "977  IRL  IMN  0.099916  0.995215\n",
       "978  MAR  ESH  0.299747  0.196172\n",
       "979  ESP  ESH  0.258279  0.861244\n",
       "\n",
       "[980 rows x 4 columns]"
      ]
     },
     "execution_count": 51,
     "metadata": {},
     "output_type": "execute_result"
    }
   ],
   "source": [
    "hss = pd.read_csv(hss_n,sep='\\t').drop([\"Unnamed: 0\"], axis=1)\n",
    "hss"
   ]
  },
  {
   "cell_type": "code",
   "execution_count": 3,
   "metadata": {},
   "outputs": [
    {
     "data": {
      "text/html": [
       "<div>\n",
       "<style scoped>\n",
       "    .dataframe tbody tr th:only-of-type {\n",
       "        vertical-align: middle;\n",
       "    }\n",
       "\n",
       "    .dataframe tbody tr th {\n",
       "        vertical-align: top;\n",
       "    }\n",
       "\n",
       "    .dataframe thead th {\n",
       "        text-align: right;\n",
       "    }\n",
       "</style>\n",
       "<table border=\"1\" class=\"dataframe\">\n",
       "  <thead>\n",
       "    <tr style=\"text-align: right;\">\n",
       "      <th></th>\n",
       "      <th>src</th>\n",
       "      <th>trg</th>\n",
       "      <th>norm-log-prox</th>\n",
       "    </tr>\n",
       "  </thead>\n",
       "  <tbody>\n",
       "    <tr>\n",
       "      <th>0</th>\n",
       "      <td>AFG</td>\n",
       "      <td>CHN</td>\n",
       "      <td>0.066656</td>\n",
       "    </tr>\n",
       "    <tr>\n",
       "      <th>1</th>\n",
       "      <td>AFG</td>\n",
       "      <td>IRN</td>\n",
       "      <td>0.134148</td>\n",
       "    </tr>\n",
       "    <tr>\n",
       "      <th>2</th>\n",
       "      <td>AFG</td>\n",
       "      <td>PAK</td>\n",
       "      <td>0.281125</td>\n",
       "    </tr>\n",
       "    <tr>\n",
       "      <th>3</th>\n",
       "      <td>AFG</td>\n",
       "      <td>TJK</td>\n",
       "      <td>0.259396</td>\n",
       "    </tr>\n",
       "    <tr>\n",
       "      <th>4</th>\n",
       "      <td>AFG</td>\n",
       "      <td>TKM</td>\n",
       "      <td>0.172147</td>\n",
       "    </tr>\n",
       "    <tr>\n",
       "      <th>...</th>\n",
       "      <td>...</td>\n",
       "      <td>...</td>\n",
       "      <td>...</td>\n",
       "    </tr>\n",
       "    <tr>\n",
       "      <th>382</th>\n",
       "      <td>VUT</td>\n",
       "      <td>PNG</td>\n",
       "      <td>0.108375</td>\n",
       "    </tr>\n",
       "    <tr>\n",
       "      <th>383</th>\n",
       "      <td>VEN</td>\n",
       "      <td>GRD</td>\n",
       "      <td>0.221385</td>\n",
       "    </tr>\n",
       "    <tr>\n",
       "      <th>384</th>\n",
       "      <td>VGB</td>\n",
       "      <td>AIA</td>\n",
       "      <td>0.396131</td>\n",
       "    </tr>\n",
       "    <tr>\n",
       "      <th>385</th>\n",
       "      <td>VGB</td>\n",
       "      <td>PRI</td>\n",
       "      <td>0.407632</td>\n",
       "    </tr>\n",
       "    <tr>\n",
       "      <th>386</th>\n",
       "      <td>ZMB</td>\n",
       "      <td>ZWE</td>\n",
       "      <td>0.289556</td>\n",
       "    </tr>\n",
       "  </tbody>\n",
       "</table>\n",
       "<p>387 rows × 3 columns</p>\n",
       "</div>"
      ],
      "text/plain": [
       "     src  trg  norm-log-prox\n",
       "0    AFG  CHN       0.066656\n",
       "1    AFG  IRN       0.134148\n",
       "2    AFG  PAK       0.281125\n",
       "3    AFG  TJK       0.259396\n",
       "4    AFG  TKM       0.172147\n",
       "..   ...  ...            ...\n",
       "382  VUT  PNG       0.108375\n",
       "383  VEN  GRD       0.221385\n",
       "384  VGB  AIA       0.396131\n",
       "385  VGB  PRI       0.407632\n",
       "386  ZMB  ZWE       0.289556\n",
       "\n",
       "[387 rows x 3 columns]"
      ]
     },
     "execution_count": 3,
     "metadata": {},
     "output_type": "execute_result"
    }
   ],
   "source": [
    "country = pd.read_csv(country_n,sep='\\t')\n",
    "country"
   ]
  },
  {
   "cell_type": "code",
   "execution_count": 5,
   "metadata": {},
   "outputs": [
    {
     "data": {
      "text/html": [
       "<div>\n",
       "<style scoped>\n",
       "    .dataframe tbody tr th:only-of-type {\n",
       "        vertical-align: middle;\n",
       "    }\n",
       "\n",
       "    .dataframe tbody tr th {\n",
       "        vertical-align: top;\n",
       "    }\n",
       "\n",
       "    .dataframe thead th {\n",
       "        text-align: right;\n",
       "    }\n",
       "</style>\n",
       "<table border=\"1\" class=\"dataframe\">\n",
       "  <thead>\n",
       "    <tr style=\"text-align: right;\">\n",
       "      <th></th>\n",
       "      <th>name_src</th>\n",
       "      <th>src</th>\n",
       "      <th>days_to_first_100_cases</th>\n",
       "      <th>weeks_since_100_cases</th>\n",
       "    </tr>\n",
       "  </thead>\n",
       "  <tbody>\n",
       "    <tr>\n",
       "      <th>39</th>\n",
       "      <td>China</td>\n",
       "      <td>CHN</td>\n",
       "      <td>1</td>\n",
       "      <td>0</td>\n",
       "    </tr>\n",
       "    <tr>\n",
       "      <th>109</th>\n",
       "      <td>Korea, Republic of</td>\n",
       "      <td>KOR</td>\n",
       "      <td>34</td>\n",
       "      <td>4</td>\n",
       "    </tr>\n",
       "    <tr>\n",
       "      <th>95</th>\n",
       "      <td>Iran (Islamic Republic of)</td>\n",
       "      <td>IRN</td>\n",
       "      <td>40</td>\n",
       "      <td>5</td>\n",
       "    </tr>\n",
       "    <tr>\n",
       "      <th>100</th>\n",
       "      <td>Italy</td>\n",
       "      <td>ITA</td>\n",
       "      <td>37</td>\n",
       "      <td>5</td>\n",
       "    </tr>\n",
       "    <tr>\n",
       "      <th>102</th>\n",
       "      <td>Japan</td>\n",
       "      <td>JPN</td>\n",
       "      <td>35</td>\n",
       "      <td>5</td>\n",
       "    </tr>\n",
       "    <tr>\n",
       "      <th>...</th>\n",
       "      <td>...</td>\n",
       "      <td>...</td>\n",
       "      <td>...</td>\n",
       "      <td>...</td>\n",
       "    </tr>\n",
       "    <tr>\n",
       "      <th>150</th>\n",
       "      <td>Norfolk Island</td>\n",
       "      <td>NFK</td>\n",
       "      <td>999</td>\n",
       "      <td>142</td>\n",
       "    </tr>\n",
       "    <tr>\n",
       "      <th>149</th>\n",
       "      <td>Niue</td>\n",
       "      <td>NIU</td>\n",
       "      <td>999</td>\n",
       "      <td>142</td>\n",
       "    </tr>\n",
       "    <tr>\n",
       "      <th>65</th>\n",
       "      <td>Falkland Islands (Malvinas)</td>\n",
       "      <td>FLK</td>\n",
       "      <td>999</td>\n",
       "      <td>142</td>\n",
       "    </tr>\n",
       "    <tr>\n",
       "      <th>183</th>\n",
       "      <td>Solomon Islands</td>\n",
       "      <td>SLB</td>\n",
       "      <td>999</td>\n",
       "      <td>142</td>\n",
       "    </tr>\n",
       "    <tr>\n",
       "      <th>223</th>\n",
       "      <td>Saint Kitts and Nevis</td>\n",
       "      <td>KNA</td>\n",
       "      <td>999</td>\n",
       "      <td>142</td>\n",
       "    </tr>\n",
       "  </tbody>\n",
       "</table>\n",
       "<p>224 rows × 4 columns</p>\n",
       "</div>"
      ],
      "text/plain": [
       "                        name_src  src  days_to_first_100_cases  \\\n",
       "39                         China  CHN                        1   \n",
       "109           Korea, Republic of  KOR                       34   \n",
       "95    Iran (Islamic Republic of)  IRN                       40   \n",
       "100                        Italy  ITA                       37   \n",
       "102                        Japan  JPN                       35   \n",
       "..                           ...  ...                      ...   \n",
       "150               Norfolk Island  NFK                      999   \n",
       "149                         Niue  NIU                      999   \n",
       "65   Falkland Islands (Malvinas)  FLK                      999   \n",
       "183              Solomon Islands  SLB                      999   \n",
       "223        Saint Kitts and Nevis  KNA                      999   \n",
       "\n",
       "     weeks_since_100_cases  \n",
       "39                       0  \n",
       "109                      4  \n",
       "95                       5  \n",
       "100                      5  \n",
       "102                      5  \n",
       "..                     ...  \n",
       "150                    142  \n",
       "149                    142  \n",
       "65                     142  \n",
       "183                    142  \n",
       "223                    142  \n",
       "\n",
       "[224 rows x 4 columns]"
      ]
     },
     "execution_count": 5,
     "metadata": {},
     "output_type": "execute_result"
    }
   ],
   "source": [
    "cov = pd.read_csv(cov_d,sep='\\t').sort_values(by=[\"weeks_since_100_cases\"],ascending=True)\n",
    "cov"
   ]
  },
  {
   "cell_type": "code",
   "execution_count": 6,
   "metadata": {},
   "outputs": [],
   "source": [
    "drop_l = [\"American Samoa\", \n",
    "          \"Christmas Island\", \n",
    "          \"Cocos (Keeling) Islands\", \n",
    "          \"Cook Islands\", \n",
    "          \"Falkland Islands (Malvinas)\",\n",
    "          \"French Polynesia\",\n",
    "          \"Lesotho\",\n",
    "          \"Marshall Islands\",\n",
    "          \"Netherlands Antilles\"\n",
    "          \"Nauru\",\n",
    "          \"Niue\",\n",
    "          \"Saint Vincent and the Grenadines\",\n",
    "          \"Swaziland\",\n",
    "          \"Tuvalu\",\n",
    "          \"Wallis and Futuna\"\n",
    "         ]\n",
    "i_drop = cov[cov[\"src\"].isin(drop_l)].index\n",
    "\n",
    "cov = cov.drop(i_drop)"
   ]
  },
  {
   "cell_type": "code",
   "execution_count": 7,
   "metadata": {},
   "outputs": [
    {
     "data": {
      "text/plain": [
       "'./data/00_FINAL_CYTOSCAPE/FIXED_proximity_normalized_07.tsv'"
      ]
     },
     "execution_count": 7,
     "metadata": {},
     "output_type": "execute_result"
    }
   ],
   "source": [
    "country_n"
   ]
  },
  {
   "cell_type": "code",
   "execution_count": 8,
   "metadata": {},
   "outputs": [],
   "source": [
    "# Importing proximity\n",
    "prox_data = open(country_n, \"r\")\n",
    "\n",
    "next(prox_data, None)  # skip the first line in the input file\n",
    "Graphtype = nx.Graph()\n",
    "\n",
    "prox_w = nx.read_weighted_edgelist(prox_data, delimiter='\\t', create_using=Graphtype, nodetype=str,)"
   ]
  },
  {
   "cell_type": "code",
   "execution_count": 9,
   "metadata": {},
   "outputs": [],
   "source": [
    "# importing flights\n",
    "fl_data = open(backboned_n, \"r\")\n",
    "\n",
    "next(fl_data, None)  # skip the first line in the input file\n",
    "Graphtype = nx.Graph()\n",
    "\n",
    "fl_w = nx.read_weighted_edgelist(fl_data, \n",
    "                                 delimiter='\\t', \n",
    "                                 create_using=Graphtype, \n",
    "                                 nodetype=str,)"
   ]
  },
  {
   "cell_type": "code",
   "execution_count": 45,
   "metadata": {},
   "outputs": [],
   "source": [
    "# Importing Disparity\n",
    "dis_data = open(disparity_n, \"r\")\n",
    "\n",
    "next(dis_data, None)  # skip the first line in the input file\n",
    "Graphtype = nx.Graph()\n",
    "\n",
    "dis_w = nx.read_weighted_edgelist(dis_data, \n",
    "                                 delimiter='\\t', \n",
    "                                 create_using=Graphtype, \n",
    "                                 nodetype=str,)"
   ]
  },
  {
   "cell_type": "code",
   "execution_count": 10,
   "metadata": {},
   "outputs": [],
   "source": [
    "# insert at 1, 0 is the script path (or '' in REPL)\n",
    "sys.path.insert(1, './distance_measure/implementation')"
   ]
  },
  {
   "cell_type": "code",
   "execution_count": 34,
   "metadata": {},
   "outputs": [],
   "source": [
    "def distance_measuring_all(df, src_c, w_c, netw):\n",
    "\n",
    "    x_axis = []\n",
    "    y_axis = []\n",
    "    d_src = {}\n",
    "    d_trg = {}\n",
    "    \n",
    "    prev_w = 0\n",
    "    \n",
    "    for idx, row in df.iterrows():   \n",
    "        if row[w_c] < 24:\n",
    "            \n",
    "            if prev_w == row[w_c]:\n",
    "                # add more countries to trg\n",
    "                d_trg.update({row[src_c]:1})\n",
    "                #print(\"Week {}: Adding more infected Countries: {}\".format(row[w_c], d_trg.keys()))\n",
    "                \n",
    "                prev_w = row[w_c]\n",
    "                \n",
    "            else:\n",
    "                # append old target to src\n",
    "                for k, v in d_trg.items():\n",
    "                     d_src.update({k:v})\n",
    "                        \n",
    "                d_trg.update({row[src_c]:1})\n",
    "                \n",
    "                if d_trg != {\"China\":1}:\n",
    "                    #print(\"\\n Week{}\".format(row[w_c]))\n",
    "                    #print(\"Src Countries:{}\".format(d_src))\n",
    "                    #print(\"Infected Countries:{}\".format(d_trg))\n",
    "                    \n",
    "                    ge_dist = nd.ge(d_src, d_trg, netw)\n",
    "                    if ge_dist != 0:\n",
    "                        x_axis.append(row[w_c])\n",
    "                        y_axis.append(ge_dist)\n",
    "                    else:\n",
    "                        print(\"Error with distance, verify nodes and edges\")\n",
    "                        print(\"Problematic week:{}\".format(row[w_c]))\n",
    "                else:\n",
    "                    pass\n",
    "                prev_w = row[w_c]\n",
    "            \n",
    "    return x_axis, y_axis\n",
    "\n",
    "def distance_measuring_new(df, src_c, w_c, netw):\n",
    "\n",
    "    x_axis = []\n",
    "    y_axis = []\n",
    "    d_src = {}\n",
    "    d_trg = {}\n",
    "    \n",
    "    prev_w = 0\n",
    "    \n",
    "    for idx, row in df.iterrows():   \n",
    "        if row[w_c] < 24:\n",
    "            \n",
    "            if prev_w == row[w_c]:\n",
    "                # add more countries to trg\n",
    "                d_trg.update({row[src_c]:1})\n",
    "                #print(\"Week {}: Adding more infected Countries: {}\".format(row[w_c], d_trg.keys()))\n",
    "                \n",
    "                prev_w = row[w_c]\n",
    "                \n",
    "            else:\n",
    "                # append old target to src\n",
    "                for k, v in d_trg.items():\n",
    "                     d_src.update({k:v})\n",
    "                        \n",
    "                d_trg = {row[src_c]:1}\n",
    "                \n",
    "                if d_trg != {\"China\":1}:\n",
    "                    #print(\"\\n Week{}\".format(row[w_c]))\n",
    "                    #print(\"Src Countries:{}\".format(d_src))\n",
    "                    #print(\"Infected Countries:{}\".format(d_trg))\n",
    "                    \n",
    "                    ge_dist = nd.ge(d_src, d_trg, netw)\n",
    "                    if ge_dist != 0:\n",
    "                        x_axis.append(row[w_c])\n",
    "                        y_axis.append(ge_dist)\n",
    "                    else:\n",
    "                        print(\"Error with distance, verify nodes and edges\")\n",
    "                        print(\"Problematic week:{}\".format(row[w_c]))\n",
    "                else:\n",
    "                    pass\n",
    "                prev_w = row[w_c]\n",
    "            \n",
    "    return x_axis, y_axis\n",
    "\n"
   ]
  },
  {
   "cell_type": "code",
   "execution_count": 35,
   "metadata": {},
   "outputs": [
    {
     "data": {
      "text/plain": [
       "[2.7003591824333126,\n",
       " 2.1761142372435947,\n",
       " 4.691978974652548,\n",
       " 4.057396804877044,\n",
       " 4.39165399876902,\n",
       " 2.354660687120698,\n",
       " 4.561956644894189,\n",
       " 4.992430417515958,\n",
       " 2.746224555645554,\n",
       " 2.8672966195380827,\n",
       " 2.8450495418664916,\n",
       " 2.344527322854053,\n",
       " 4.856387920213158,\n",
       " 4.192381914241429,\n",
       " 2.0719082793338384,\n",
       " 3.51534825774447,\n",
       " 4.943727771176041,\n",
       " 2.8651996763111316,\n",
       " 2.9896538215402533]"
      ]
     },
     "execution_count": 35,
     "metadata": {},
     "output_type": "execute_result"
    }
   ],
   "source": [
    "x_prox, y_prox = distance_measuring_all(cov, 'src', 'weeks_since_100_cases', netw = prox_w)\n",
    "new_x_prox, new_y_prox = distance_measuring_new(cov, 'src', 'weeks_since_100_cases', netw = prox_w)\n",
    "new_y_prox"
   ]
  },
  {
   "cell_type": "code",
   "execution_count": 36,
   "metadata": {},
   "outputs": [
    {
     "data": {
      "text/plain": [
       "[2.0504756187826847,\n",
       " 3.0356374460247024,\n",
       " 2.0032244948229425,\n",
       " 1.7440670680100563,\n",
       " 2.7726511045565387,\n",
       " 1.7339150021561596,\n",
       " 2.265092203473267,\n",
       " 1.7914642186491068,\n",
       " 1.6538008487931626,\n",
       " 1.6068057764837262,\n",
       " 1.6428572272047313,\n",
       " 1.7999850119875047,\n",
       " 1.9370419371069787,\n",
       " 1.8589834331526032,\n",
       " 1.7176903164141888,\n",
       " 1.779844991391583,\n",
       " 1.886118978948466,\n",
       " 1.5972968925323787,\n",
       " 1.881604646242375]"
      ]
     },
     "execution_count": 36,
     "metadata": {},
     "output_type": "execute_result"
    }
   ],
   "source": [
    "x_fly, y_fly  = distance_measuring_all(cov, 'src', 'weeks_since_100_cases', netw = fl_w)\n",
    "new_x_fly, new_y_fly  = distance_measuring_new(cov, 'src', 'weeks_since_100_cases', netw = fl_w)\n",
    "new_y_fly"
   ]
  },
  {
   "cell_type": "code",
   "execution_count": 46,
   "metadata": {},
   "outputs": [
    {
     "data": {
      "text/plain": [
       "[0.6820955120946037,\n",
       " 0.982334480733577,\n",
       " 0.400686788415544,\n",
       " 0.47262795743021074,\n",
       " 0.8090457068823009,\n",
       " 0.7375785477169422,\n",
       " 2.963273066186881,\n",
       " 1.903375610507235,\n",
       " 3.23956122752942,\n",
       " 3.6210435802160617,\n",
       " 2.4759318328661992,\n",
       " 3.5906564240056964,\n",
       " 2.2642532993500994,\n",
       " 1.452819447132985,\n",
       " 1.1460586113323328,\n",
       " 3.125643536032885,\n",
       " 3.882987045327974,\n",
       " 2.433629149385459,\n",
       " 3.1789050272026254]"
      ]
     },
     "execution_count": 46,
     "metadata": {},
     "output_type": "execute_result"
    }
   ],
   "source": [
    "x_dis, y_dis  = distance_measuring_all(cov, 'src', 'weeks_since_100_cases', netw = dis_w)\n",
    "new_x_dis, new_y_dis  = distance_measuring_new(cov, 'src', 'weeks_since_100_cases', netw = dis_w)\n",
    "new_y_dis"
   ]
  },
  {
   "cell_type": "markdown",
   "metadata": {},
   "source": [
    "# Making the graph"
   ]
  },
  {
   "cell_type": "code",
   "execution_count": 47,
   "metadata": {},
   "outputs": [
    {
     "data": {
      "text/plain": [
       "<matplotlib.legend.Legend at 0x7f04fa4f8640>"
      ]
     },
     "execution_count": 47,
     "metadata": {},
     "output_type": "execute_result"
    },
    {
     "data": {
      "image/png": "[encoded data removed]",
      "text/plain": [
       "<Figure size 432x288 with 1 Axes>"
      ]
     },
     "metadata": {
      "needs_background": "light"
     },
     "output_type": "display_data"
    }
   ],
   "source": [
    "# Proximity line\n",
    "plt.plot(x_prox, y_prox, label = \"eucledian proximity\")\n",
    "# Flight line\n",
    "plt.plot(x_fly, y_fly, label = \"nc-flight proximity\")\n",
    "plt.plot(x_dis, y_dis, label = \"dis-flight proximity\")\n",
    "plt.xlabel('[Weeks_since_100_cases_Wuhan] x - axis')\n",
    "# Set the y axis label of the current axis.\n",
    "plt.ylabel('[Network Distance] y - axis')\n",
    "# Set a title of the current axes.\n",
    "plt.title('Distance comparison ')\n",
    "# show a legend on the plot\n",
    "plt.legend()"
   ]
  },
  {
   "cell_type": "code",
   "execution_count": 48,
   "metadata": {},
   "outputs": [
    {
     "data": {
      "text/plain": [
       "<matplotlib.legend.Legend at 0x7f04fa445190>"
      ]
     },
     "execution_count": 48,
     "metadata": {},
     "output_type": "execute_result"
    },
    {
     "data": {
      "image/png": "[encoded data removed]",
      "text/plain": [
       "<Figure size 432x288 with 1 Axes>"
      ]
     },
     "metadata": {
      "needs_background": "light"
     },
     "output_type": "display_data"
    }
   ],
   "source": [
    "# Proximity line\n",
    "plt.plot(x_prox, y_prox, label = \"Geographical proximity\")\n",
    "# Flight line\n",
    "plt.plot(x_fly, y_fly, label = \"nc-flight proximity\")\n",
    "plt.plot(x_dis, y_dis, label = \"dis-flight proximity\")\n",
    "plt.ylim(bottom = 0, top=0.125)\n",
    "plt.xlabel('[Weeks_since_100_cases_Wuhan] x - axis')\n",
    "# Set the y axis label of the current axis.\n",
    "plt.ylabel('[Network Distance] y - axis')\n",
    "# Set a title of the current axes.\n",
    "plt.title('Distance comparison among all nodes ')\n",
    "# show a legend on the plot\n",
    "plt.legend()"
   ]
  },
  {
   "cell_type": "code",
   "execution_count": 49,
   "metadata": {},
   "outputs": [
    {
     "data": {
      "text/plain": [
       "<matplotlib.legend.Legend at 0x7f04fa3d5910>"
      ]
     },
     "execution_count": 49,
     "metadata": {},
     "output_type": "execute_result"
    },
    {
     "data": {
      "image/png": "[encoded data removed]",
      "text/plain": [
       "<Figure size 432x288 with 1 Axes>"
      ]
     },
     "metadata": {
      "needs_background": "light"
     },
     "output_type": "display_data"
    }
   ],
   "source": [
    "# Proximity line\n",
    "plt.plot(new_x_prox, new_y_prox, label = \"Geographical proximity\", color=\"blue\")\n",
    "# Flight line\n",
    "plt.plot(new_x_prox, new_y_fly, label = \"nc-flight proximity\", color=\"orange\")\n",
    "plt.plot(new_x_prox, new_y_dis, label = \"dis-flight proximity\", color=\"green\")\n",
    "plt.xlabel('[Weeks_since_100_cases_Wuhan] x - axis')\n",
    "# Set the y axis label of the current axis.\n",
    "plt.ylabel('[Network Distance] y - axis')\n",
    "# Set a title of the current axes.\n",
    "plt.title('Distance comparison w/ newly infected nodes')\n",
    "# show a legend on the plot\n",
    "plt.legend()"
   ]
  },
  {
   "cell_type": "code",
   "execution_count": 40,
   "metadata": {},
   "outputs": [],
   "source": [
    "def subtract(l1,l2):\n",
    "    difference = []\n",
    "    zip_object = zip(l1, l2)\n",
    "    for l1_i, l2_i in zip_object:\n",
    "        difference.append(l1_i-l2_i)\n",
    "    return difference\n",
    "\n",
    "def divide(l1,l2):\n",
    "    difference = []\n",
    "    zip_object = zip(l1, l2)\n",
    "    for l1_i, l2_i in zip_object:\n",
    "        difference.append(l1_i / l2_i)\n",
    "    return difference"
   ]
  },
  {
   "cell_type": "code",
   "execution_count": 41,
   "metadata": {},
   "outputs": [
    {
     "data": {
      "text/plain": [
       "<matplotlib.legend.Legend at 0x7f0508057cd0>"
      ]
     },
     "execution_count": 41,
     "metadata": {},
     "output_type": "execute_result"
    },
    {
     "data": {
      "image/png": "[encoded data removed]",
      "text/plain": [
       "<Figure size 432x288 with 1 Axes>"
      ]
     },
     "metadata": {
      "needs_background": "light"
     },
     "output_type": "display_data"
    }
   ],
   "source": [
    "# Relative Differences\n",
    "\n",
    "plt.plot(x_prox, divide(subtract(y_fly, y_prox), y_prox), label = \"Rel. Diff all infected\", color = \"black\")\n",
    "plt.plot(new_x_prox, divide(subtract(new_y_fly, new_y_prox), new_y_prox), label = \"Rel. Diff newly infected\", color=\"brown\")\n",
    "plt.xlabel('[Weeks_since_100_cases_Wuhan] x - axis')\n",
    "# Set the y axis label of the current axis.\n",
    "plt.ylabel('Relative difference y - axis')\n",
    "# Set a title of the current axes.\n",
    "plt.title('Relative Distance comparison')\n",
    "# show a legend on the plot\n",
    "plt.legend()"
   ]
  },
  {
   "cell_type": "code",
   "execution_count": 42,
   "metadata": {},
   "outputs": [
    {
     "data": {
      "text/plain": [
       "<matplotlib.legend.Legend at 0x7f050806c3a0>"
      ]
     },
     "execution_count": 42,
     "metadata": {},
     "output_type": "execute_result"
    },
    {
     "data": {
      "image/png": "[encoded data removed]",
      "text/plain": [
       "<Figure size 432x288 with 1 Axes>"
      ]
     },
     "metadata": {
      "needs_background": "light"
     },
     "output_type": "display_data"
    }
   ],
   "source": [
    "# Absolute Differences\n",
    "\n",
    "plt.plot(x_prox, subtract(y_prox, y_fly), label = \"Abs. Diff all infected\")\n",
    "plt.plot(new_x_prox, subtract(new_y_prox, new_y_fly), label = \"Abs. Diff newly infected\", color=\"brown\")\n",
    "plt.xlabel('[Weeks_since_100_cases_Wuhan] x - axis')\n",
    "# Set the y axis label of the current axis.\n",
    "plt.ylabel('[Abs Difference in Distance] y - axis')\n",
    "# Set a title of the current axes.\n",
    "plt.title('Absolute Distance difference comparison')\n",
    "# show a legend on the plot\n",
    "plt.legend()"
   ]
  },
  {
   "cell_type": "markdown",
   "metadata": {},
   "source": [
    "Improve plotting https://matplotlib.org/3.3.0/gallery/lines_bars_and_markers/psd_demo.html#sphx-glr-gallery-lines-bars-and-markers-psd-demo-py"
   ]
  },
  {
   "cell_type": "code",
   "execution_count": 43,
   "metadata": {},
   "outputs": [
    {
     "data": {
      "text/plain": [
       "<matplotlib.legend.Legend at 0x7f050823b340>"
      ]
     },
     "execution_count": 43,
     "metadata": {},
     "output_type": "execute_result"
    },
    {
     "data": {
      "image/png": "[encoded data removed]",
      "text/plain": [
       "<Figure size 432x288 with 1 Axes>"
      ]
     },
     "metadata": {
      "needs_background": "light"
     },
     "output_type": "display_data"
    }
   ],
   "source": [
    "# Relative Differences\n",
    "\n",
    "plt.plot(new_x_prox, divide(subtract(new_y_prox, new_y_fly), new_y_fly), label = \"Newly infected [ny1 - ny2]\")\n",
    "plt.xlabel('[Weeks_since_100_cases_Wuhan] x - axis')\n",
    "# Set the y axis label of the current axis.\n",
    "plt.ylabel('[Relative difference] y - axis')\n",
    "# Set a title of the current axes.\n",
    "plt.title('Newly infected relative Distance comparison')\n",
    "# show a legend on the plot\n",
    "plt.legend()\n",
    "\n"
   ]
  },
  {
   "cell_type": "code",
   "execution_count": 44,
   "metadata": {},
   "outputs": [
    {
     "data": {
      "text/plain": [
       "<matplotlib.legend.Legend at 0x7f0508307490>"
      ]
     },
     "execution_count": 44,
     "metadata": {},
     "output_type": "execute_result"
    },
    {
     "data": {
      "image/png": "[encoded data removed]",
      "text/plain": [
       "<Figure size 432x288 with 1 Axes>"
      ]
     },
     "metadata": {
      "needs_background": "light"
     },
     "output_type": "display_data"
    }
   ],
   "source": [
    "# Relative Differences\n",
    "\n",
    "plt.plot(x_prox, divide(subtract(y_prox, y_fly), y_fly), label = \"All infected [y1-y2]\")\n",
    "plt.xlabel('[Weeks_since_100_cases_Wuhan] x - axis')\n",
    "# Set the y axis label of the current axis.\n",
    "plt.ylabel('Relative difference y - axis')\n",
    "# Set a title of the current axes.\n",
    "plt.title('All infected Relative Distance comparison')\n",
    "# show a legend on the plot\n",
    "plt.legend()\n",
    "\n"
   ]
  },
  {
   "cell_type": "code",
   "execution_count": 79,
   "metadata": {},
   "outputs": [
    {
     "data": {
      "text/html": [
       "<div>\n",
       "<style scoped>\n",
       "    .dataframe tbody tr th:only-of-type {\n",
       "        vertical-align: middle;\n",
       "    }\n",
       "\n",
       "    .dataframe tbody tr th {\n",
       "        vertical-align: top;\n",
       "    }\n",
       "\n",
       "    .dataframe thead th {\n",
       "        text-align: right;\n",
       "    }\n",
       "</style>\n",
       "<table border=\"1\" class=\"dataframe\">\n",
       "  <thead>\n",
       "    <tr style=\"text-align: right;\">\n",
       "      <th></th>\n",
       "      <th>index</th>\n",
       "      <th>src</th>\n",
       "      <th>trg</th>\n",
       "      <th>nij</th>\n",
       "      <th>score</th>\n",
       "      <th>x</th>\n",
       "    </tr>\n",
       "  </thead>\n",
       "  <tbody>\n",
       "    <tr>\n",
       "      <th>282</th>\n",
       "      <td>282</td>\n",
       "      <td>AUT</td>\n",
       "      <td>RUS</td>\n",
       "      <td>0.469648</td>\n",
       "      <td>0.071770</td>\n",
       "      <td>1</td>\n",
       "    </tr>\n",
       "    <tr>\n",
       "      <th>343</th>\n",
       "      <td>343</td>\n",
       "      <td>ISR</td>\n",
       "      <td>CHE</td>\n",
       "      <td>0.331913</td>\n",
       "      <td>0.071770</td>\n",
       "      <td>2</td>\n",
       "    </tr>\n",
       "    <tr>\n",
       "      <th>621</th>\n",
       "      <td>621</td>\n",
       "      <td>MAC</td>\n",
       "      <td>PHL</td>\n",
       "      <td>0.331913</td>\n",
       "      <td>0.071770</td>\n",
       "      <td>3</td>\n",
       "    </tr>\n",
       "    <tr>\n",
       "      <th>341</th>\n",
       "      <td>341</td>\n",
       "      <td>EGY</td>\n",
       "      <td>CHE</td>\n",
       "      <td>0.431829</td>\n",
       "      <td>0.071770</td>\n",
       "      <td>4</td>\n",
       "    </tr>\n",
       "    <tr>\n",
       "      <th>340</th>\n",
       "      <td>340</td>\n",
       "      <td>AUT</td>\n",
       "      <td>CHE</td>\n",
       "      <td>0.451975</td>\n",
       "      <td>0.071770</td>\n",
       "      <td>5</td>\n",
       "    </tr>\n",
       "    <tr>\n",
       "      <th>...</th>\n",
       "      <td>...</td>\n",
       "      <td>...</td>\n",
       "      <td>...</td>\n",
       "      <td>...</td>\n",
       "      <td>...</td>\n",
       "      <td>...</td>\n",
       "    </tr>\n",
       "    <tr>\n",
       "      <th>847</th>\n",
       "      <td>847</td>\n",
       "      <td>BEL</td>\n",
       "      <td>AGO</td>\n",
       "      <td>0.199832</td>\n",
       "      <td>0.995215</td>\n",
       "      <td>976</td>\n",
       "    </tr>\n",
       "    <tr>\n",
       "      <th>905</th>\n",
       "      <td>905</td>\n",
       "      <td>BRA</td>\n",
       "      <td>CPV</td>\n",
       "      <td>0.099916</td>\n",
       "      <td>0.995215</td>\n",
       "      <td>977</td>\n",
       "    </tr>\n",
       "    <tr>\n",
       "      <th>913</th>\n",
       "      <td>913</td>\n",
       "      <td>CMR</td>\n",
       "      <td>CAF</td>\n",
       "      <td>0.199832</td>\n",
       "      <td>0.995215</td>\n",
       "      <td>978</td>\n",
       "    </tr>\n",
       "    <tr>\n",
       "      <th>965</th>\n",
       "      <td>965</td>\n",
       "      <td>DEU</td>\n",
       "      <td>GGY</td>\n",
       "      <td>0.158363</td>\n",
       "      <td>0.995215</td>\n",
       "      <td>979</td>\n",
       "    </tr>\n",
       "    <tr>\n",
       "      <th>562</th>\n",
       "      <td>562</td>\n",
       "      <td>AUS</td>\n",
       "      <td>TLS</td>\n",
       "      <td>0.199832</td>\n",
       "      <td>0.995215</td>\n",
       "      <td>980</td>\n",
       "    </tr>\n",
       "  </tbody>\n",
       "</table>\n",
       "<p>980 rows × 6 columns</p>\n",
       "</div>"
      ],
      "text/plain": [
       "     index  src  trg       nij     score    x\n",
       "282    282  AUT  RUS  0.469648  0.071770    1\n",
       "343    343  ISR  CHE  0.331913  0.071770    2\n",
       "621    621  MAC  PHL  0.331913  0.071770    3\n",
       "341    341  EGY  CHE  0.431829  0.071770    4\n",
       "340    340  AUT  CHE  0.451975  0.071770    5\n",
       "..     ...  ...  ...       ...       ...  ...\n",
       "847    847  BEL  AGO  0.199832  0.995215  976\n",
       "905    905  BRA  CPV  0.099916  0.995215  977\n",
       "913    913  CMR  CAF  0.199832  0.995215  978\n",
       "965    965  DEU  GGY  0.158363  0.995215  979\n",
       "562    562  AUS  TLS  0.199832  0.995215  980\n",
       "\n",
       "[980 rows x 6 columns]"
      ]
     },
     "execution_count": 79,
     "metadata": {},
     "output_type": "execute_result"
    }
   ],
   "source": [
    "hss\n",
    "s_hss = hss.reset_index().sort_values(by=['score'])\n",
    "s_hss['x'] = list(range(1,981))\n",
    "s_hss"
   ]
  },
  {
   "cell_type": "code",
   "execution_count": 77,
   "metadata": {},
   "outputs": [
    {
     "data": {
      "text/html": [
       "<div>\n",
       "<style scoped>\n",
       "    .dataframe tbody tr th:only-of-type {\n",
       "        vertical-align: middle;\n",
       "    }\n",
       "\n",
       "    .dataframe tbody tr th {\n",
       "        vertical-align: top;\n",
       "    }\n",
       "\n",
       "    .dataframe thead th {\n",
       "        text-align: right;\n",
       "    }\n",
       "</style>\n",
       "<table border=\"1\" class=\"dataframe\">\n",
       "  <thead>\n",
       "    <tr style=\"text-align: right;\">\n",
       "      <th></th>\n",
       "      <th>src</th>\n",
       "      <th>trg</th>\n",
       "      <th>nij</th>\n",
       "      <th>score</th>\n",
       "    </tr>\n",
       "  </thead>\n",
       "  <tbody>\n",
       "    <tr>\n",
       "      <th>0</th>\n",
       "      <td>AFG</td>\n",
       "      <td>AZE</td>\n",
       "      <td>0.099916</td>\n",
       "      <td>0.976077</td>\n",
       "    </tr>\n",
       "    <tr>\n",
       "      <th>1</th>\n",
       "      <td>AUT</td>\n",
       "      <td>AZE</td>\n",
       "      <td>0.199832</td>\n",
       "      <td>0.990431</td>\n",
       "    </tr>\n",
       "    <tr>\n",
       "      <th>2</th>\n",
       "      <td>AFG</td>\n",
       "      <td>IND</td>\n",
       "      <td>0.380415</td>\n",
       "      <td>0.071770</td>\n",
       "    </tr>\n",
       "    <tr>\n",
       "      <th>3</th>\n",
       "      <td>BGD</td>\n",
       "      <td>IND</td>\n",
       "      <td>0.458110</td>\n",
       "      <td>0.071770</td>\n",
       "    </tr>\n",
       "    <tr>\n",
       "      <th>4</th>\n",
       "      <td>BEL</td>\n",
       "      <td>IND</td>\n",
       "      <td>0.316726</td>\n",
       "      <td>0.267943</td>\n",
       "    </tr>\n",
       "    <tr>\n",
       "      <th>...</th>\n",
       "      <td>...</td>\n",
       "      <td>...</td>\n",
       "      <td>...</td>\n",
       "      <td>...</td>\n",
       "    </tr>\n",
       "    <tr>\n",
       "      <th>975</th>\n",
       "      <td>JPN</td>\n",
       "      <td>PLW</td>\n",
       "      <td>0.231997</td>\n",
       "      <td>0.990431</td>\n",
       "    </tr>\n",
       "    <tr>\n",
       "      <th>976</th>\n",
       "      <td>FSM</td>\n",
       "      <td>PLW</td>\n",
       "      <td>0.099916</td>\n",
       "      <td>0.071770</td>\n",
       "    </tr>\n",
       "    <tr>\n",
       "      <th>977</th>\n",
       "      <td>IRL</td>\n",
       "      <td>IMN</td>\n",
       "      <td>0.099916</td>\n",
       "      <td>0.995215</td>\n",
       "    </tr>\n",
       "    <tr>\n",
       "      <th>978</th>\n",
       "      <td>MAR</td>\n",
       "      <td>ESH</td>\n",
       "      <td>0.299747</td>\n",
       "      <td>0.196172</td>\n",
       "    </tr>\n",
       "    <tr>\n",
       "      <th>979</th>\n",
       "      <td>ESP</td>\n",
       "      <td>ESH</td>\n",
       "      <td>0.258279</td>\n",
       "      <td>0.861244</td>\n",
       "    </tr>\n",
       "  </tbody>\n",
       "</table>\n",
       "<p>980 rows × 4 columns</p>\n",
       "</div>"
      ],
      "text/plain": [
       "     src  trg       nij     score\n",
       "0    AFG  AZE  0.099916  0.976077\n",
       "1    AUT  AZE  0.199832  0.990431\n",
       "2    AFG  IND  0.380415  0.071770\n",
       "3    BGD  IND  0.458110  0.071770\n",
       "4    BEL  IND  0.316726  0.267943\n",
       "..   ...  ...       ...       ...\n",
       "975  JPN  PLW  0.231997  0.990431\n",
       "976  FSM  PLW  0.099916  0.071770\n",
       "977  IRL  IMN  0.099916  0.995215\n",
       "978  MAR  ESH  0.299747  0.196172\n",
       "979  ESP  ESH  0.258279  0.861244\n",
       "\n",
       "[980 rows x 4 columns]"
      ]
     },
     "execution_count": 77,
     "metadata": {},
     "output_type": "execute_result"
    }
   ],
   "source": [
    "hss"
   ]
  },
  {
   "cell_type": "code",
   "execution_count": 81,
   "metadata": {},
   "outputs": [
    {
     "name": "stderr",
     "output_type": "stream",
     "text": [
      "No handles with labels found to put in legend.\n"
     ]
    },
    {
     "data": {
      "image/png": "[encoded data removed]",
      "text/plain": [
       "<Figure size 432x288 with 1 Axes>"
      ]
     },
     "metadata": {
      "needs_background": "light"
     },
     "output_type": "display_data"
    }
   ],
   "source": [
    "#hss\n",
    "s_hss.reset_index().plot(kind='scatter', y ='x', x='score', color='red')\n",
    "plt.xlabel('[HSS Score] x - axis')\n",
    "# Set the y axis label of the current axis.\n",
    "plt.ylabel('[# Edges] y - axis')\n",
    "# Set a title of the current axes.\n",
    "plt.title('Sorted edge weights for HSS')\n",
    "# show a legend on the plot\n",
    "plt.legend()\n",
    "plt.show()"
   ]
  },
  {
   "cell_type": "code",
   "execution_count": null,
   "metadata": {},
   "outputs": [],
   "source": []
  },
  {
   "cell_type": "code",
   "execution_count": null,
   "metadata": {},
   "outputs": [],
   "source": []
  }
 ],
 "metadata": {
  "kernelspec": {
   "display_name": "Python 3",
   "language": "python",
   "name": "python3"
  },
  "language_info": {
   "codemirror_mode": {
    "name": "ipython",
    "version": 3
   },
   "file_extension": ".py",
   "mimetype": "text/x-python",
   "name": "python",
   "nbconvert_exporter": "python",
   "pygments_lexer": "ipython3",
   "version": "3.8.3"
  }
 },
 "nbformat": 4,
 "nbformat_minor": 4
}
