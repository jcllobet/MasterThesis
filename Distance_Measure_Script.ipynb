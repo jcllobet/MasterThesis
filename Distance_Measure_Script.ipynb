{
 "cells": [
  {
   "cell_type": "code",
   "execution_count": 1,
   "metadata": {},
   "outputs": [],
   "source": [
    "import pandas as pd\n",
    "import numpy as np\n",
    "import networkx as nx\n",
    "import matplotlib.pyplot as plt\n",
    "import csv\n",
    "import sys\n",
    "\n",
    "import network_distance as nd"
   ]
  },
  {
   "cell_type": "code",
   "execution_count": 2,
   "metadata": {},
   "outputs": [],
   "source": [
    "backboned_n = \"./data/00_FINAL_CYTOSCAPE/ADAPTED_209_countries_flights_norm_backbone_05_high_threshold.tsv\"\n",
    "country_n = \"./data/00_FINAL_CYTOSCAPE/proximity_normalized_06_adapted.tsv\"\n",
    "cov_d = './data/0_Golden_Standard/cov_for_distance_01.csv'"
   ]
  },
  {
   "cell_type": "code",
   "execution_count": 3,
   "metadata": {},
   "outputs": [
    {
     "data": {
      "text/html": [
       "<div>\n",
       "<style scoped>\n",
       "    .dataframe tbody tr th:only-of-type {\n",
       "        vertical-align: middle;\n",
       "    }\n",
       "\n",
       "    .dataframe tbody tr th {\n",
       "        vertical-align: top;\n",
       "    }\n",
       "\n",
       "    .dataframe thead th {\n",
       "        text-align: right;\n",
       "    }\n",
       "</style>\n",
       "<table border=\"1\" class=\"dataframe\">\n",
       "  <thead>\n",
       "    <tr style=\"text-align: right;\">\n",
       "      <th></th>\n",
       "      <th>src</th>\n",
       "      <th>trg</th>\n",
       "      <th>norm-log-prox</th>\n",
       "    </tr>\n",
       "  </thead>\n",
       "  <tbody>\n",
       "    <tr>\n",
       "      <th>0</th>\n",
       "      <td>Afghanistan</td>\n",
       "      <td>China</td>\n",
       "      <td>0.066656</td>\n",
       "    </tr>\n",
       "    <tr>\n",
       "      <th>1</th>\n",
       "      <td>Afghanistan</td>\n",
       "      <td>Iran (Islamic Republic of)</td>\n",
       "      <td>0.134148</td>\n",
       "    </tr>\n",
       "    <tr>\n",
       "      <th>2</th>\n",
       "      <td>Afghanistan</td>\n",
       "      <td>Pakistan</td>\n",
       "      <td>0.281125</td>\n",
       "    </tr>\n",
       "    <tr>\n",
       "      <th>3</th>\n",
       "      <td>Afghanistan</td>\n",
       "      <td>Tajikistan</td>\n",
       "      <td>0.259396</td>\n",
       "    </tr>\n",
       "    <tr>\n",
       "      <th>4</th>\n",
       "      <td>Afghanistan</td>\n",
       "      <td>Turkmenistan</td>\n",
       "      <td>0.172147</td>\n",
       "    </tr>\n",
       "    <tr>\n",
       "      <th>...</th>\n",
       "      <td>...</td>\n",
       "      <td>...</td>\n",
       "      <td>...</td>\n",
       "    </tr>\n",
       "    <tr>\n",
       "      <th>382</th>\n",
       "      <td>Vanuatu</td>\n",
       "      <td>Papua New Guinea</td>\n",
       "      <td>0.108375</td>\n",
       "    </tr>\n",
       "    <tr>\n",
       "      <th>383</th>\n",
       "      <td>Venezuela (Bolivarian Republic of)</td>\n",
       "      <td>Grenada</td>\n",
       "      <td>0.221385</td>\n",
       "    </tr>\n",
       "    <tr>\n",
       "      <th>384</th>\n",
       "      <td>Virgin Islands (British)</td>\n",
       "      <td>Anguilla</td>\n",
       "      <td>0.396131</td>\n",
       "    </tr>\n",
       "    <tr>\n",
       "      <th>385</th>\n",
       "      <td>Virgin Islands (British)</td>\n",
       "      <td>Puerto Rico</td>\n",
       "      <td>0.407632</td>\n",
       "    </tr>\n",
       "    <tr>\n",
       "      <th>386</th>\n",
       "      <td>Zambia</td>\n",
       "      <td>Zimbabwe</td>\n",
       "      <td>0.289556</td>\n",
       "    </tr>\n",
       "  </tbody>\n",
       "</table>\n",
       "<p>387 rows × 3 columns</p>\n",
       "</div>"
      ],
      "text/plain": [
       "                                    src                         trg  \\\n",
       "0                           Afghanistan                       China   \n",
       "1                           Afghanistan  Iran (Islamic Republic of)   \n",
       "2                           Afghanistan                    Pakistan   \n",
       "3                           Afghanistan                  Tajikistan   \n",
       "4                           Afghanistan                Turkmenistan   \n",
       "..                                  ...                         ...   \n",
       "382                             Vanuatu            Papua New Guinea   \n",
       "383  Venezuela (Bolivarian Republic of)                     Grenada   \n",
       "384            Virgin Islands (British)                    Anguilla   \n",
       "385            Virgin Islands (British)                 Puerto Rico   \n",
       "386                              Zambia                    Zimbabwe   \n",
       "\n",
       "     norm-log-prox  \n",
       "0         0.066656  \n",
       "1         0.134148  \n",
       "2         0.281125  \n",
       "3         0.259396  \n",
       "4         0.172147  \n",
       "..             ...  \n",
       "382       0.108375  \n",
       "383       0.221385  \n",
       "384       0.396131  \n",
       "385       0.407632  \n",
       "386       0.289556  \n",
       "\n",
       "[387 rows x 3 columns]"
      ]
     },
     "execution_count": 3,
     "metadata": {},
     "output_type": "execute_result"
    }
   ],
   "source": [
    "country = pd.read_csv(country_n,sep='\\t')\n",
    "country"
   ]
  },
  {
   "cell_type": "code",
   "execution_count": 4,
   "metadata": {},
   "outputs": [
    {
     "data": {
      "text/html": [
       "<div>\n",
       "<style scoped>\n",
       "    .dataframe tbody tr th:only-of-type {\n",
       "        vertical-align: middle;\n",
       "    }\n",
       "\n",
       "    .dataframe tbody tr th {\n",
       "        vertical-align: top;\n",
       "    }\n",
       "\n",
       "    .dataframe thead th {\n",
       "        text-align: right;\n",
       "    }\n",
       "</style>\n",
       "<table border=\"1\" class=\"dataframe\">\n",
       "  <thead>\n",
       "    <tr style=\"text-align: right;\">\n",
       "      <th></th>\n",
       "      <th>src</th>\n",
       "      <th>iso_code_src</th>\n",
       "      <th>days_to_first_100_cases</th>\n",
       "      <th>weeks_since_100_cases</th>\n",
       "    </tr>\n",
       "  </thead>\n",
       "  <tbody>\n",
       "    <tr>\n",
       "      <th>39</th>\n",
       "      <td>China</td>\n",
       "      <td>CHN</td>\n",
       "      <td>1.0</td>\n",
       "      <td>0</td>\n",
       "    </tr>\n",
       "    <tr>\n",
       "      <th>109</th>\n",
       "      <td>Korea, Republic of</td>\n",
       "      <td>KOR</td>\n",
       "      <td>34.0</td>\n",
       "      <td>4</td>\n",
       "    </tr>\n",
       "    <tr>\n",
       "      <th>95</th>\n",
       "      <td>Iran (Islamic Republic of)</td>\n",
       "      <td>IRN</td>\n",
       "      <td>40.0</td>\n",
       "      <td>5</td>\n",
       "    </tr>\n",
       "    <tr>\n",
       "      <th>100</th>\n",
       "      <td>Italy</td>\n",
       "      <td>ITA</td>\n",
       "      <td>37.0</td>\n",
       "      <td>5</td>\n",
       "    </tr>\n",
       "    <tr>\n",
       "      <th>102</th>\n",
       "      <td>Japan</td>\n",
       "      <td>JPN</td>\n",
       "      <td>35.0</td>\n",
       "      <td>5</td>\n",
       "    </tr>\n",
       "    <tr>\n",
       "      <th>...</th>\n",
       "      <td>...</td>\n",
       "      <td>...</td>\n",
       "      <td>...</td>\n",
       "      <td>...</td>\n",
       "    </tr>\n",
       "    <tr>\n",
       "      <th>150</th>\n",
       "      <td>Norfolk Island</td>\n",
       "      <td>NFK</td>\n",
       "      <td>999.0</td>\n",
       "      <td>142</td>\n",
       "    </tr>\n",
       "    <tr>\n",
       "      <th>149</th>\n",
       "      <td>Niue</td>\n",
       "      <td>NIU</td>\n",
       "      <td>999.0</td>\n",
       "      <td>142</td>\n",
       "    </tr>\n",
       "    <tr>\n",
       "      <th>65</th>\n",
       "      <td>Falkland Islands (Malvinas)</td>\n",
       "      <td>FLK</td>\n",
       "      <td>999.0</td>\n",
       "      <td>142</td>\n",
       "    </tr>\n",
       "    <tr>\n",
       "      <th>183</th>\n",
       "      <td>Solomon Islands</td>\n",
       "      <td>SLB</td>\n",
       "      <td>999.0</td>\n",
       "      <td>142</td>\n",
       "    </tr>\n",
       "    <tr>\n",
       "      <th>223</th>\n",
       "      <td>Saint Kitts and Nevis</td>\n",
       "      <td>KNA</td>\n",
       "      <td>999.0</td>\n",
       "      <td>142</td>\n",
       "    </tr>\n",
       "  </tbody>\n",
       "</table>\n",
       "<p>224 rows × 4 columns</p>\n",
       "</div>"
      ],
      "text/plain": [
       "                             src iso_code_src  days_to_first_100_cases  \\\n",
       "39                         China          CHN                      1.0   \n",
       "109           Korea, Republic of          KOR                     34.0   \n",
       "95    Iran (Islamic Republic of)          IRN                     40.0   \n",
       "100                        Italy          ITA                     37.0   \n",
       "102                        Japan          JPN                     35.0   \n",
       "..                           ...          ...                      ...   \n",
       "150               Norfolk Island          NFK                    999.0   \n",
       "149                         Niue          NIU                    999.0   \n",
       "65   Falkland Islands (Malvinas)          FLK                    999.0   \n",
       "183              Solomon Islands          SLB                    999.0   \n",
       "223        Saint Kitts and Nevis          KNA                    999.0   \n",
       "\n",
       "     weeks_since_100_cases  \n",
       "39                       0  \n",
       "109                      4  \n",
       "95                       5  \n",
       "100                      5  \n",
       "102                      5  \n",
       "..                     ...  \n",
       "150                    142  \n",
       "149                    142  \n",
       "65                     142  \n",
       "183                    142  \n",
       "223                    142  \n",
       "\n",
       "[224 rows x 4 columns]"
      ]
     },
     "execution_count": 4,
     "metadata": {},
     "output_type": "execute_result"
    }
   ],
   "source": [
    "cov = pd.read_csv(cov_d,sep=',').drop([\"Unnamed: 0\"],axis=1).sort_values(by=[\"weeks_since_100_cases\"],ascending=True)\n",
    "cov"
   ]
  },
  {
   "cell_type": "code",
   "execution_count": 5,
   "metadata": {},
   "outputs": [],
   "source": [
    "drop_l = [\"American Samoa\", \n",
    "          \"Christmas Island\", \n",
    "          \"Cocos (Keeling) Islands\", \n",
    "          \"Cook Islands\", \n",
    "          \"Falkland Islands (Malvinas)\",\n",
    "          \"French Polynesia\",\n",
    "          \"Lesotho\",\n",
    "          \"Marshall Islands\",\n",
    "          \"Netherlands Antilles\"\n",
    "          \"Nauru\",\n",
    "          \"Niue\",\n",
    "          \"Saint Vincent and the Grenadines\",\n",
    "          \"Swaziland\",\n",
    "          \"Tuvalu\",\n",
    "          \"Wallis and Futuna\"\n",
    "         ]\n",
    "i_drop = cov[cov[\"src\"].isin(drop_l)].index\n",
    "\n",
    "cov = cov.drop(i_drop)"
   ]
  },
  {
   "cell_type": "code",
   "execution_count": 6,
   "metadata": {},
   "outputs": [],
   "source": [
    "# Importing proximity\n",
    "prox_data = open(country_n, \"r\")\n",
    "\n",
    "next(prox_data, None)  # skip the first line in the input file\n",
    "Graphtype = nx.Graph()\n",
    "\n",
    "prox_w = nx.read_weighted_edgelist(prox_data, delimiter='\\t', create_using=Graphtype, nodetype=str,)\n",
    "\n"
   ]
  },
  {
   "cell_type": "code",
   "execution_count": 7,
   "metadata": {},
   "outputs": [],
   "source": [
    "# importing flights\n",
    "fl_data = open(backboned_n, \"r\")\n",
    "\n",
    "next(fl_data, None)  # skip the first line in the input file\n",
    "Graphtype = nx.Graph()\n",
    "\n",
    "fl_w = nx.read_weighted_edgelist(fl_data, \n",
    "                                 delimiter='\\t', \n",
    "                                 create_using=Graphtype, \n",
    "                                 nodetype=str,)"
   ]
  },
  {
   "cell_type": "code",
   "execution_count": 8,
   "metadata": {},
   "outputs": [],
   "source": [
    "# insert at 1, 0 is the script path (or '' in REPL)\n",
    "sys.path.insert(1, './distance_measure/implementation')"
   ]
  },
  {
   "cell_type": "code",
   "execution_count": 9,
   "metadata": {},
   "outputs": [],
   "source": [
    "def distance_measuring_all(df, src_c, w_c, netw):\n",
    "\n",
    "    x_axis = []\n",
    "    y_axis = []\n",
    "    d_src = {}\n",
    "    d_trg = {}\n",
    "    \n",
    "    prev_w = 0\n",
    "    \n",
    "    for idx, row in df.iterrows():   \n",
    "        if row[w_c] < 100:\n",
    "            \n",
    "            if prev_w == row[w_c]:\n",
    "                # add more countries to trg\n",
    "                d_trg.update({row[src_c]:1})\n",
    "                #print(\"Week {}: Adding more infected Countries: {}\".format(row[w_c], d_trg.keys()))\n",
    "                \n",
    "                prev_w = row[w_c]\n",
    "                \n",
    "            else:\n",
    "                # append old target to src\n",
    "                for k, v in d_trg.items():\n",
    "                     d_src.update({k:v})\n",
    "                        \n",
    "                d_trg.update({row[src_c]:1})\n",
    "                \n",
    "                if d_trg != {\"China\":1}:\n",
    "                    #print(\"\\n Week{}\".format(row[w_c]))\n",
    "                    #print(\"Src Countries:{}\".format(d_src))\n",
    "                    #print(\"Infected Countries:{}\".format(d_trg))\n",
    "                    \n",
    "                    ge_dist = nd.ge(d_src, d_trg, netw)\n",
    "                    if ge_dist != 0:\n",
    "                        x_axis.append(row[w_c])\n",
    "                        y_axis.append(ge_dist)\n",
    "                    else:\n",
    "                        print(\"Error with distance, verify nodes and edges\")\n",
    "                else:\n",
    "                    pass\n",
    "                prev_w = row[w_c]\n",
    "            \n",
    "    return x_axis, y_axis\n",
    "\n",
    "def distance_measuring_new(df, src_c, w_c, netw):\n",
    "\n",
    "    x_axis = []\n",
    "    y_axis = []\n",
    "    d_src = {}\n",
    "    d_trg = {}\n",
    "    \n",
    "    prev_w = 0\n",
    "    \n",
    "    for idx, row in df.iterrows():   \n",
    "        if row[w_c] < 100:\n",
    "            \n",
    "            if prev_w == row[w_c]:\n",
    "                # add more countries to trg\n",
    "                d_trg.update({row[src_c]:1})\n",
    "                #print(\"Week {}: Adding more infected Countries: {}\".format(row[w_c], d_trg.keys()))\n",
    "                \n",
    "                prev_w = row[w_c]\n",
    "                \n",
    "            else:\n",
    "                # append old target to src\n",
    "                for k, v in d_trg.items():\n",
    "                     d_src.update({k:v})\n",
    "                        \n",
    "                d_trg = {row[src_c]:1}\n",
    "                \n",
    "                if d_trg != {\"China\":1}:\n",
    "                    #print(\"\\n Week{}\".format(row[w_c]))\n",
    "                    #print(\"Src Countries:{}\".format(d_src))\n",
    "                    #print(\"Infected Countries:{}\".format(d_trg))\n",
    "                    \n",
    "                    ge_dist = nd.ge(d_src, d_trg, netw)\n",
    "                    if ge_dist != 0:\n",
    "                        x_axis.append(row[w_c])\n",
    "                        y_axis.append(ge_dist)\n",
    "                    else:\n",
    "                        print(\"Error with distance, verify nodes and edges\")\n",
    "                else:\n",
    "                    pass\n",
    "                prev_w = row[w_c]\n",
    "            \n",
    "    return x_axis, y_axis\n",
    "\n"
   ]
  },
  {
   "cell_type": "code",
   "execution_count": 10,
   "metadata": {},
   "outputs": [
    {
     "data": {
      "text/plain": [
       "[2.7009659111036273,\n",
       " 2.1850267745330405,\n",
       " 6.405073667702402,\n",
       " 5.255035839714316,\n",
       " 6.191508296758933,\n",
       " 2.431933440087624,\n",
       " 4.602457220687929,\n",
       " 6.739144023684017,\n",
       " 2.849354400407708,\n",
       " 2.9691396515199124,\n",
       " 2.9334216710759904,\n",
       " 2.4486970353275295,\n",
       " 6.621617208623887,\n",
       " 5.7327482392637075,\n",
       " 2.203773414783054,\n",
       " 3.603166444430861,\n",
       " 6.646619576282373,\n",
       " 2.9768727935401387,\n",
       " 3.0942545733694846,\n",
       " 6.438710320704937]"
      ]
     },
     "execution_count": 10,
     "metadata": {},
     "output_type": "execute_result"
    }
   ],
   "source": [
    "x_prox, y_prox = distance_measuring_all(cov, 'src', 'weeks_since_100_cases', netw = prox_w)\n",
    "new_x_prox, new_y_prox = distance_measuring_new(cov, 'src', 'weeks_since_100_cases', netw = prox_w)\n",
    "new_y_prox"
   ]
  },
  {
   "cell_type": "code",
   "execution_count": 11,
   "metadata": {},
   "outputs": [
    {
     "data": {
      "text/plain": [
       "[1.0231883938383135,\n",
       " 0.9513548138660693,\n",
       " 0.27042637269607056,\n",
       " 0.09705001637741366,\n",
       " 0.09484430474866046,\n",
       " 0.02609622723255486,\n",
       " 0.02398861204700322,\n",
       " 0.01544616782568171,\n",
       " 0.013201811247148868,\n",
       " 0.012436535618199579,\n",
       " 0.011975140146089028,\n",
       " 0.012511003271792786,\n",
       " 0.011779220998800702,\n",
       " 0.010911756898172309,\n",
       " 0.010663497772795976,\n",
       " 0.010742739300662569,\n",
       " 0.010811875666558217,\n",
       " 0.009496216833761967,\n",
       " 0.011061825013597846,\n",
       " 0.009381600899297312]"
      ]
     },
     "execution_count": 11,
     "metadata": {},
     "output_type": "execute_result"
    }
   ],
   "source": [
    "x_fly, y_fly  = distance_measuring_all(cov, 'src', 'weeks_since_100_cases', netw = fl_w)\n",
    "new_x_fly, new_y_fly  = distance_measuring_all(cov, 'src', 'weeks_since_100_cases', netw = fl_w)\n",
    "new_y_fly"
   ]
  },
  {
   "cell_type": "markdown",
   "metadata": {},
   "source": [
    "# Making the graph"
   ]
  },
  {
   "cell_type": "code",
   "execution_count": 12,
   "metadata": {},
   "outputs": [
    {
     "data": {
      "text/plain": [
       "<matplotlib.legend.Legend at 0x7f19d037bfd0>"
      ]
     },
     "execution_count": 12,
     "metadata": {},
     "output_type": "execute_result"
    },
    {
     "data": {
      "image/png": "[encoded data removed]",
      "text/plain": [
       "<Figure size 432x288 with 1 Axes>"
      ]
     },
     "metadata": {
      "needs_background": "light"
     },
     "output_type": "display_data"
    }
   ],
   "source": [
    "# Proximity line\n",
    "plt.plot(x_prox, y_prox, label = \"eucledian proximity\")\n",
    "# Flight line\n",
    "plt.plot(x_fly, y_fly, label = \"flight proximity\")\n",
    "plt.xlabel('[Weeks_since_100_cases_Wuhan] x - axis')\n",
    "# Set the y axis label of the current axis.\n",
    "plt.ylabel('[Network Distance] y - axis')\n",
    "# Set a title of the current axes.\n",
    "plt.title('Distance comparison ')\n",
    "# show a legend on the plot\n",
    "plt.legend()"
   ]
  },
  {
   "cell_type": "code",
   "execution_count": 13,
   "metadata": {},
   "outputs": [
    {
     "data": {
      "text/plain": [
       "<matplotlib.legend.Legend at 0x7f19d02dbee0>"
      ]
     },
     "execution_count": 13,
     "metadata": {},
     "output_type": "execute_result"
    },
    {
     "data": {
      "image/png": "[encoded data removed]",
      "text/plain": [
       "<Figure size 432x288 with 1 Axes>"
      ]
     },
     "metadata": {
      "needs_background": "light"
     },
     "output_type": "display_data"
    }
   ],
   "source": [
    "# Proximity line\n",
    "plt.plot(x_prox, y_prox, label = \"Geographical proximity\")\n",
    "# Flight line\n",
    "plt.plot(x_fly, y_fly, label = \"flight proximity\")\n",
    "plt.ylim(bottom = 0, top=0.125)\n",
    "plt.xlabel('[Weeks_since_100_cases_Wuhan] x - axis')\n",
    "# Set the y axis label of the current axis.\n",
    "plt.ylabel('[Network Distance] y - axis')\n",
    "# Set a title of the current axes.\n",
    "plt.title('Distance comparison among all nodes ')\n",
    "# show a legend on the plot\n",
    "plt.legend()"
   ]
  },
  {
   "cell_type": "code",
   "execution_count": 14,
   "metadata": {},
   "outputs": [
    {
     "data": {
      "text/plain": [
       "<matplotlib.legend.Legend at 0x7f19d029efa0>"
      ]
     },
     "execution_count": 14,
     "metadata": {},
     "output_type": "execute_result"
    },
    {
     "data": {
      "image/png": "[encoded data removed]",
      "text/plain": [
       "<Figure size 432x288 with 1 Axes>"
      ]
     },
     "metadata": {
      "needs_background": "light"
     },
     "output_type": "display_data"
    }
   ],
   "source": [
    "# Proximity line\n",
    "plt.plot(new_x_prox, new_y_prox, label = \"eucledian proximity\")\n",
    "# Flight line\n",
    "plt.plot(new_x_prox, new_y_fly, label = \"flight proximity\")\n",
    "plt.xlabel('log(Weeks_since_100_cases_Wuhan) x - axis')\n",
    "# Set the y axis label of the current axis.\n",
    "plt.ylabel('[Network Distance] y - axis')\n",
    "# Set a title of the current axes.\n",
    "plt.title('Distance comparison w/ newly infected nodes')\n",
    "# show a legend on the plot\n",
    "plt.legend()"
   ]
  },
  {
   "cell_type": "markdown",
   "metadata": {},
   "source": [
    "Improve plotting https://matplotlib.org/3.3.0/gallery/lines_bars_and_markers/psd_demo.html#sphx-glr-gallery-lines-bars-and-markers-psd-demo-py"
   ]
  }
 ],
 "metadata": {
  "kernelspec": {
   "display_name": "Python 3",
   "language": "python",
   "name": "python3"
  },
  "language_info": {
   "codemirror_mode": {
    "name": "ipython",
    "version": 3
   },
   "file_extension": ".py",
   "mimetype": "text/x-python",
   "name": "python",
   "nbconvert_exporter": "python",
   "pygments_lexer": "ipython3",
   "version": "3.8.3"
  }
 },
 "nbformat": 4,
 "nbformat_minor": 4
}
